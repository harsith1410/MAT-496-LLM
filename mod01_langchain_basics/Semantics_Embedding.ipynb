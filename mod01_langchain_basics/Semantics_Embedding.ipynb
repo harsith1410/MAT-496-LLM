{
 "cells": [
  {
   "cell_type": "code",
   "id": "65ec513b",
   "metadata": {
    "ExecuteTime": {
     "end_time": "2025-09-11T08:53:29.075635Z",
     "start_time": "2025-09-11T08:53:29.070417Z"
    }
   },
   "source": [
    "import os\n",
    "from dotenv import load_dotenv\n",
    "load_dotenv()\n"
   ],
   "outputs": [
    {
     "data": {
      "text/plain": [
       "True"
      ]
     },
     "execution_count": 10,
     "metadata": {},
     "output_type": "execute_result"
    }
   ],
   "execution_count": 10
  },
  {
   "cell_type": "markdown",
   "id": "6e45e179",
   "metadata": {},
   "source": [
    "## What is RAG (retrieval augmented generation)?\n",
    "Basically, shoving lot of extra information in the prompt."
   ]
  },
  {
   "cell_type": "code",
   "id": "52bc9487",
   "metadata": {
    "ExecuteTime": {
     "end_time": "2025-09-09T10:16:10.103469Z",
     "start_time": "2025-09-09T10:16:07.278491Z"
    }
   },
   "source": [
    "# Example \n",
    "\n",
    "from langchain.chat_models import init_chat_model\n",
    "model = init_chat_model(\"llama-3.3-70b-versatile\", model_provider=\"groq\")\n",
    "\n",
    "prompt_template = \"\"\"You are an assistant for question-answering tasks. Use the following pieces of retrieved context to answer the question. If you don't know the answer, just say that you don't know. Use three sentences maximum and keep the answer concise.\n",
    "Question: {question} \n",
    "Context: {context} \n",
    "Answer:\"\"\"\n",
    "\n",
    "response = model.invoke(\n",
    "    prompt_template.format(\n",
    "        context=\"Ajit has two sisters, Preeti and Sweta. Ajit is male.\",\n",
    "        question=\"Who is Preeti's bother?\"         \n",
    "    ))\n",
    "\n",
    "print(response)"
   ],
   "outputs": [
    {
     "name": "stdout",
     "output_type": "stream",
     "text": [
      "content=\"Ajit is Preeti's brother. He is also the brother of Sweta. There is no other information given about any other brothers of Preeti.\" additional_kwargs={} response_metadata={'token_usage': {'completion_tokens': 34, 'prompt_tokens': 119, 'total_tokens': 153, 'completion_time': 0.123807931, 'prompt_time': 0.016851417, 'queue_time': 0.052306673, 'total_time': 0.140659348}, 'model_name': 'llama-3.3-70b-versatile', 'system_fingerprint': 'fp_2ddfbb0da0', 'service_tier': 'on_demand', 'finish_reason': 'stop', 'logprobs': None} id='run--94814cd2-4c2c-497b-8536-aed5854a1c7a-0' usage_metadata={'input_tokens': 119, 'output_tokens': 34, 'total_tokens': 153}\n"
     ]
    }
   ],
   "execution_count": 2
  },
  {
   "metadata": {
    "ExecuteTime": {
     "end_time": "2025-09-09T10:07:06.831675Z",
     "start_time": "2025-09-09T10:07:00.726891Z"
    }
   },
   "cell_type": "code",
   "source": "# pip install -U langchain-groq",
   "id": "d068326963acbab3",
   "outputs": [
    {
     "name": "stdout",
     "output_type": "stream",
     "text": [
      "Collecting langchain-groq\n",
      "  Downloading langchain_groq-0.3.7-py3-none-any.whl.metadata (2.6 kB)\n",
      "Requirement already satisfied: langchain-core<1.0.0,>=0.3.72 in c:\\users\\harsi\\appdata\\local\\programs\\python\\python312\\lib\\site-packages (from langchain-groq) (0.3.75)\n",
      "Collecting groq<1,>=0.30.0 (from langchain-groq)\n",
      "  Downloading groq-0.31.1-py3-none-any.whl.metadata (16 kB)\n",
      "Requirement already satisfied: anyio<5,>=3.5.0 in c:\\users\\harsi\\appdata\\local\\programs\\python\\python312\\lib\\site-packages (from groq<1,>=0.30.0->langchain-groq) (4.9.0)\n",
      "Collecting distro<2,>=1.7.0 (from groq<1,>=0.30.0->langchain-groq)\n",
      "  Using cached distro-1.9.0-py3-none-any.whl.metadata (6.8 kB)\n",
      "Requirement already satisfied: httpx<1,>=0.23.0 in c:\\users\\harsi\\appdata\\local\\programs\\python\\python312\\lib\\site-packages (from groq<1,>=0.30.0->langchain-groq) (0.28.1)\n",
      "Requirement already satisfied: pydantic<3,>=1.9.0 in c:\\users\\harsi\\appdata\\local\\programs\\python\\python312\\lib\\site-packages (from groq<1,>=0.30.0->langchain-groq) (2.11.7)\n",
      "Requirement already satisfied: sniffio in c:\\users\\harsi\\appdata\\local\\programs\\python\\python312\\lib\\site-packages (from groq<1,>=0.30.0->langchain-groq) (1.3.1)\n",
      "Requirement already satisfied: typing-extensions<5,>=4.10 in c:\\users\\harsi\\appdata\\local\\programs\\python\\python312\\lib\\site-packages (from groq<1,>=0.30.0->langchain-groq) (4.12.2)\n",
      "Requirement already satisfied: idna>=2.8 in c:\\users\\harsi\\appdata\\local\\programs\\python\\python312\\lib\\site-packages (from anyio<5,>=3.5.0->groq<1,>=0.30.0->langchain-groq) (3.10)\n",
      "Requirement already satisfied: certifi in c:\\users\\harsi\\appdata\\local\\programs\\python\\python312\\lib\\site-packages (from httpx<1,>=0.23.0->groq<1,>=0.30.0->langchain-groq) (2024.12.14)\n",
      "Requirement already satisfied: httpcore==1.* in c:\\users\\harsi\\appdata\\local\\programs\\python\\python312\\lib\\site-packages (from httpx<1,>=0.23.0->groq<1,>=0.30.0->langchain-groq) (1.0.9)\n",
      "Requirement already satisfied: h11>=0.16 in c:\\users\\harsi\\appdata\\local\\programs\\python\\python312\\lib\\site-packages (from httpcore==1.*->httpx<1,>=0.23.0->groq<1,>=0.30.0->langchain-groq) (0.16.0)\n",
      "Requirement already satisfied: langsmith>=0.3.45 in c:\\users\\harsi\\appdata\\local\\programs\\python\\python312\\lib\\site-packages (from langchain-core<1.0.0,>=0.3.72->langchain-groq) (0.4.23)\n",
      "Requirement already satisfied: tenacity!=8.4.0,<10.0.0,>=8.1.0 in c:\\users\\harsi\\appdata\\local\\programs\\python\\python312\\lib\\site-packages (from langchain-core<1.0.0,>=0.3.72->langchain-groq) (9.1.2)\n",
      "Requirement already satisfied: jsonpatch<2.0,>=1.33 in c:\\users\\harsi\\appdata\\local\\programs\\python\\python312\\lib\\site-packages (from langchain-core<1.0.0,>=0.3.72->langchain-groq) (1.33)\n",
      "Requirement already satisfied: PyYAML>=5.3 in c:\\users\\harsi\\appdata\\local\\programs\\python\\python312\\lib\\site-packages (from langchain-core<1.0.0,>=0.3.72->langchain-groq) (6.0.2)\n",
      "Requirement already satisfied: packaging>=23.2 in c:\\users\\harsi\\appdata\\local\\programs\\python\\python312\\lib\\site-packages (from langchain-core<1.0.0,>=0.3.72->langchain-groq) (24.1)\n",
      "Requirement already satisfied: jsonpointer>=1.9 in c:\\users\\harsi\\appdata\\local\\programs\\python\\python312\\lib\\site-packages (from jsonpatch<2.0,>=1.33->langchain-core<1.0.0,>=0.3.72->langchain-groq) (3.0.0)\n",
      "Requirement already satisfied: annotated-types>=0.6.0 in c:\\users\\harsi\\appdata\\local\\programs\\python\\python312\\lib\\site-packages (from pydantic<3,>=1.9.0->groq<1,>=0.30.0->langchain-groq) (0.7.0)\n",
      "Requirement already satisfied: pydantic-core==2.33.2 in c:\\users\\harsi\\appdata\\local\\programs\\python\\python312\\lib\\site-packages (from pydantic<3,>=1.9.0->groq<1,>=0.30.0->langchain-groq) (2.33.2)\n",
      "Requirement already satisfied: typing-inspection>=0.4.0 in c:\\users\\harsi\\appdata\\local\\programs\\python\\python312\\lib\\site-packages (from pydantic<3,>=1.9.0->groq<1,>=0.30.0->langchain-groq) (0.4.1)\n",
      "Requirement already satisfied: orjson>=3.9.14 in c:\\users\\harsi\\appdata\\local\\programs\\python\\python312\\lib\\site-packages (from langsmith>=0.3.45->langchain-core<1.0.0,>=0.3.72->langchain-groq) (3.11.3)\n",
      "Requirement already satisfied: requests-toolbelt>=1.0.0 in c:\\users\\harsi\\appdata\\local\\programs\\python\\python312\\lib\\site-packages (from langsmith>=0.3.45->langchain-core<1.0.0,>=0.3.72->langchain-groq) (1.0.0)\n",
      "Requirement already satisfied: requests>=2.0.0 in c:\\users\\harsi\\appdata\\local\\programs\\python\\python312\\lib\\site-packages (from langsmith>=0.3.45->langchain-core<1.0.0,>=0.3.72->langchain-groq) (2.32.5)\n",
      "Requirement already satisfied: zstandard>=0.23.0 in c:\\users\\harsi\\appdata\\local\\programs\\python\\python312\\lib\\site-packages (from langsmith>=0.3.45->langchain-core<1.0.0,>=0.3.72->langchain-groq) (0.24.0)\n",
      "Requirement already satisfied: charset_normalizer<4,>=2 in c:\\users\\harsi\\appdata\\local\\programs\\python\\python312\\lib\\site-packages (from requests>=2.0.0->langsmith>=0.3.45->langchain-core<1.0.0,>=0.3.72->langchain-groq) (3.4.0)\n",
      "Requirement already satisfied: urllib3<3,>=1.21.1 in c:\\users\\harsi\\appdata\\local\\programs\\python\\python312\\lib\\site-packages (from requests>=2.0.0->langsmith>=0.3.45->langchain-core<1.0.0,>=0.3.72->langchain-groq) (2.2.3)\n",
      "Downloading langchain_groq-0.3.7-py3-none-any.whl (16 kB)\n",
      "Downloading groq-0.31.1-py3-none-any.whl (134 kB)\n",
      "Using cached distro-1.9.0-py3-none-any.whl (20 kB)\n",
      "Installing collected packages: distro, groq, langchain-groq\n",
      "\n",
      "   ---------------------------------------- 0/3 [distro]\n",
      "   ------------- -------------------------- 1/3 [groq]\n",
      "   ------------- -------------------------- 1/3 [groq]\n",
      "   ------------- -------------------------- 1/3 [groq]\n",
      "   ------------- -------------------------- 1/3 [groq]\n",
      "   ------------- -------------------------- 1/3 [groq]\n",
      "   ------------- -------------------------- 1/3 [groq]\n",
      "   ------------- -------------------------- 1/3 [groq]\n",
      "   ------------- -------------------------- 1/3 [groq]\n",
      "   ------------- -------------------------- 1/3 [groq]\n",
      "   ------------- -------------------------- 1/3 [groq]\n",
      "   ------------- -------------------------- 1/3 [groq]\n",
      "   ------------- -------------------------- 1/3 [groq]\n",
      "   ------------- -------------------------- 1/3 [groq]\n",
      "   ------------- -------------------------- 1/3 [groq]\n",
      "   ------------- -------------------------- 1/3 [groq]\n",
      "   -------------------------- ------------- 2/3 [langchain-groq]\n",
      "   ---------------------------------------- 3/3 [langchain-groq]\n",
      "\n",
      "Successfully installed distro-1.9.0 groq-0.31.1 langchain-groq-0.3.7\n",
      "Note: you may need to restart the kernel to use updated packages.\n"
     ]
    },
    {
     "name": "stderr",
     "output_type": "stream",
     "text": [
      "  WARNING: The script distro.exe is installed in 'C:\\Users\\harsi\\AppData\\Local\\Programs\\Python\\Python312\\Scripts' which is not on PATH.\n",
      "  Consider adding this directory to PATH or, if you prefer to suppress this warning, use --no-warn-script-location.\n",
      "\n",
      "[notice] A new release of pip is available: 25.1.1 -> 25.2\n",
      "[notice] To update, run: C:\\Users\\harsi\\AppData\\Local\\Programs\\Python\\Python312\\python.exe -m pip install --upgrade pip\n"
     ]
    }
   ],
   "execution_count": 4
  },
  {
   "cell_type": "code",
   "id": "475aef4c",
   "metadata": {
    "ExecuteTime": {
     "end_time": "2025-09-09T10:16:13.028734Z",
     "start_time": "2025-09-09T10:16:13.024256Z"
    }
   },
   "source": [
    "print(response.content)"
   ],
   "outputs": [
    {
     "name": "stdout",
     "output_type": "stream",
     "text": [
      "Ajit is Preeti's brother. He is also the brother of Sweta. There is no other information given about any other brothers of Preeti.\n"
     ]
    }
   ],
   "execution_count": 3
  },
  {
   "cell_type": "markdown",
   "id": "33703cf0",
   "metadata": {},
   "source": [
    ">RAG is all about cleverly pushing is as much information in the context with minimum possible tokens"
   ]
  },
  {
   "cell_type": "code",
   "id": "0b38ad4e",
   "metadata": {
    "ExecuteTime": {
     "end_time": "2025-09-09T10:16:15.623880Z",
     "start_time": "2025-09-09T10:16:15.616356Z"
    }
   },
   "source": [
    "# little non-trival RAG example\n",
    "\n",
    "# grab a novel\n",
    "file = open(\"indianTales.txt\",encoding=\"utf-8\")\n",
    "text = file.read()"
   ],
   "outputs": [],
   "execution_count": 4
  },
  {
   "cell_type": "code",
   "id": "07503397",
   "metadata": {
    "ExecuteTime": {
     "end_time": "2025-09-09T10:16:20.766235Z",
     "start_time": "2025-09-09T10:16:18.420923Z"
    }
   },
   "source": [
    "# lets try to talk with this book\n",
    "\n",
    "from langchain.chat_models import init_chat_model\n",
    "model = init_chat_model(\"llama-3.3-70b-versatile\", model_provider=\"groq\")\n",
    "\n",
    "# Prepare your prompt\n",
    "prompt_template = \"\"\"You are a novel reader. You are given collection of stories:\n",
    "{collection_of_stories}\n",
    "You are tasked to make a list of story titles in this collection. Write a short summary for each story in Hindi Language. Skip the story from the list, if the story is not provided in the text. \n",
    "\"\"\"\n",
    "\n",
    "response = model.invoke(prompt_template.format(collection_of_stories = text[:len(text)//20]))\n",
    "\n",
    "print(response)"
   ],
   "outputs": [
    {
     "name": "stdout",
     "output_type": "stream",
     "text": [
      "content='यहाँ दी गई कहानियों की सूची है जिनमें से प्रत्येक के लिए एक संक्षिप्त सारांश हिंदी में दिया गया है:\\n\\n1. **शेर और बगुला**: एक शेर के गले में हड्डी फंस जाती है और वह बहुत दर्द से पीड़ित होता है। एक बगुला उसे बचाने के लिए आता है और हड्डी निकाल देता है, लेकिन शेर उसे धन्यवाद देने के बजाय उसे खाने की धमकी देता है।\\n\\n2. **राजा के बेटे ने प्रिंसेस लाबम को कैसे जीता**: एक राजा का बेटा अपनी मां की अनुमति के बिना शिकार पर जाता है और एक जंगल में जाकर प्रिंसेस लाबम के बारे में जानता है। वह उसकी तलाश में निकल पड़ता है और कई चुनौतियों का सामना करता है, जिनमें से एक में वह एक तиг्रे की मदद करता है जिसके पैर में एक कांटा फंसा हुआ है।' additional_kwargs={} response_metadata={'token_usage': {'completion_tokens': 328, 'prompt_tokens': 5232, 'total_tokens': 5560, 'completion_time': 1.060159351, 'prompt_time': 0.391144986, 'queue_time': 0.049820703, 'total_time': 1.451304337}, 'model_name': 'llama-3.3-70b-versatile', 'system_fingerprint': 'fp_2ddfbb0da0', 'service_tier': 'on_demand', 'finish_reason': 'stop', 'logprobs': None} id='run--0f0d0f56-5a15-471c-8e28-990e34f6d31b-0' usage_metadata={'input_tokens': 5232, 'output_tokens': 328, 'total_tokens': 5560}\n"
     ]
    }
   ],
   "execution_count": 5
  },
  {
   "cell_type": "code",
   "id": "87249ea6",
   "metadata": {
    "ExecuteTime": {
     "end_time": "2025-09-09T10:16:23.128168Z",
     "start_time": "2025-09-09T10:16:23.120195Z"
    }
   },
   "source": [
    "# Better printing\n",
    "\n",
    "from IPython.display import Markdown\n",
    "Markdown(response.content)"
   ],
   "outputs": [
    {
     "data": {
      "text/plain": [
       "<IPython.core.display.Markdown object>"
      ],
      "text/markdown": "यहाँ दी गई कहानियों की सूची है जिनमें से प्रत्येक के लिए एक संक्षिप्त सारांश हिंदी में दिया गया है:\n\n1. **शेर और बगुला**: एक शेर के गले में हड्डी फंस जाती है और वह बहुत दर्द से पीड़ित होता है। एक बगुला उसे बचाने के लिए आता है और हड्डी निकाल देता है, लेकिन शेर उसे धन्यवाद देने के बजाय उसे खाने की धमकी देता है।\n\n2. **राजा के बेटे ने प्रिंसेस लाबम को कैसे जीता**: एक राजा का बेटा अपनी मां की अनुमति के बिना शिकार पर जाता है और एक जंगल में जाकर प्रिंसेस लाबम के बारे में जानता है। वह उसकी तलाश में निकल पड़ता है और कई चुनौतियों का सामना करता है, जिनमें से एक में वह एक तиг्रे की मदद करता है जिसके पैर में एक कांटा फंसा हुआ है।"
     },
     "execution_count": 6,
     "metadata": {},
     "output_type": "execute_result"
    }
   ],
   "execution_count": 6
  },
  {
   "cell_type": "markdown",
   "id": "8fb7239b",
   "metadata": {},
   "source": [
    "### Problem: Too much raw information in the context makes the prompt too long.\n",
    "- Costly\n",
    "- adds noise\n",
    "### Solution: Use RAG\n",
    "https://python.langchain.com/docs/tutorials/rag/\n",
    "### To understand RAG, we need to understand Semantic Search\n",
    "https://python.langchain.com/docs/tutorials/retrievers/"
   ]
  },
  {
   "cell_type": "code",
   "id": "e1ca6bd8",
   "metadata": {
    "ExecuteTime": {
     "end_time": "2025-09-11T08:51:11.246476Z",
     "start_time": "2025-09-11T08:51:03.359303Z"
    }
   },
   "source": [
    "# load text using RELEVANT loader\n",
    "from langchain_community.document_loaders import PyPDFLoader\n",
    "\n",
    "loader = PyPDFLoader(\"f1report.pdf\")\n",
    "document = loader.load()\n"
   ],
   "outputs": [],
   "execution_count": 5
  },
  {
   "metadata": {
    "ExecuteTime": {
     "end_time": "2025-09-09T10:20:29.645723Z",
     "start_time": "2025-09-09T10:20:24.754468Z"
    }
   },
   "cell_type": "code",
   "source": "# pip install -U langchain-community pypdf",
   "id": "896936ba16bc84b1",
   "outputs": [
    {
     "name": "stdout",
     "output_type": "stream",
     "text": [
      "Requirement already satisfied: langchain-community in c:\\users\\harsi\\appdata\\local\\programs\\python\\python312\\lib\\site-packages (0.3.29)\n",
      "Collecting pypdf\n",
      "  Downloading pypdf-6.0.0-py3-none-any.whl.metadata (7.1 kB)\n",
      "Requirement already satisfied: langchain-core<2.0.0,>=0.3.75 in c:\\users\\harsi\\appdata\\local\\programs\\python\\python312\\lib\\site-packages (from langchain-community) (0.3.75)\n",
      "Requirement already satisfied: langchain<2.0.0,>=0.3.27 in c:\\users\\harsi\\appdata\\local\\programs\\python\\python312\\lib\\site-packages (from langchain-community) (0.3.27)\n",
      "Requirement already satisfied: SQLAlchemy<3,>=1.4 in c:\\users\\harsi\\appdata\\local\\programs\\python\\python312\\lib\\site-packages (from langchain-community) (2.0.43)\n",
      "Requirement already satisfied: requests<3,>=2.32.5 in c:\\users\\harsi\\appdata\\local\\programs\\python\\python312\\lib\\site-packages (from langchain-community) (2.32.5)\n",
      "Requirement already satisfied: PyYAML>=5.3 in c:\\users\\harsi\\appdata\\local\\programs\\python\\python312\\lib\\site-packages (from langchain-community) (6.0.2)\n",
      "Requirement already satisfied: aiohttp<4.0.0,>=3.8.3 in c:\\users\\harsi\\appdata\\local\\programs\\python\\python312\\lib\\site-packages (from langchain-community) (3.12.15)\n",
      "Requirement already satisfied: tenacity!=8.4.0,<10,>=8.1.0 in c:\\users\\harsi\\appdata\\local\\programs\\python\\python312\\lib\\site-packages (from langchain-community) (9.1.2)\n",
      "Requirement already satisfied: dataclasses-json<0.7,>=0.6.7 in c:\\users\\harsi\\appdata\\local\\programs\\python\\python312\\lib\\site-packages (from langchain-community) (0.6.7)\n",
      "Requirement already satisfied: pydantic-settings<3.0.0,>=2.10.1 in c:\\users\\harsi\\appdata\\local\\programs\\python\\python312\\lib\\site-packages (from langchain-community) (2.10.1)\n",
      "Requirement already satisfied: langsmith>=0.1.125 in c:\\users\\harsi\\appdata\\local\\programs\\python\\python312\\lib\\site-packages (from langchain-community) (0.4.23)\n",
      "Requirement already satisfied: httpx-sse<1.0.0,>=0.4.0 in c:\\users\\harsi\\appdata\\local\\programs\\python\\python312\\lib\\site-packages (from langchain-community) (0.4.1)\n",
      "Requirement already satisfied: numpy>=1.26.2 in c:\\users\\harsi\\appdata\\local\\programs\\python\\python312\\lib\\site-packages (from langchain-community) (2.1.2)\n",
      "Requirement already satisfied: aiohappyeyeballs>=2.5.0 in c:\\users\\harsi\\appdata\\local\\programs\\python\\python312\\lib\\site-packages (from aiohttp<4.0.0,>=3.8.3->langchain-community) (2.6.1)\n",
      "Requirement already satisfied: aiosignal>=1.4.0 in c:\\users\\harsi\\appdata\\local\\programs\\python\\python312\\lib\\site-packages (from aiohttp<4.0.0,>=3.8.3->langchain-community) (1.4.0)\n",
      "Requirement already satisfied: attrs>=17.3.0 in c:\\users\\harsi\\appdata\\local\\programs\\python\\python312\\lib\\site-packages (from aiohttp<4.0.0,>=3.8.3->langchain-community) (24.3.0)\n",
      "Requirement already satisfied: frozenlist>=1.1.1 in c:\\users\\harsi\\appdata\\local\\programs\\python\\python312\\lib\\site-packages (from aiohttp<4.0.0,>=3.8.3->langchain-community) (1.7.0)\n",
      "Requirement already satisfied: multidict<7.0,>=4.5 in c:\\users\\harsi\\appdata\\local\\programs\\python\\python312\\lib\\site-packages (from aiohttp<4.0.0,>=3.8.3->langchain-community) (6.6.4)\n",
      "Requirement already satisfied: propcache>=0.2.0 in c:\\users\\harsi\\appdata\\local\\programs\\python\\python312\\lib\\site-packages (from aiohttp<4.0.0,>=3.8.3->langchain-community) (0.3.2)\n",
      "Requirement already satisfied: yarl<2.0,>=1.17.0 in c:\\users\\harsi\\appdata\\local\\programs\\python\\python312\\lib\\site-packages (from aiohttp<4.0.0,>=3.8.3->langchain-community) (1.20.1)\n",
      "Requirement already satisfied: marshmallow<4.0.0,>=3.18.0 in c:\\users\\harsi\\appdata\\local\\programs\\python\\python312\\lib\\site-packages (from dataclasses-json<0.7,>=0.6.7->langchain-community) (3.26.1)\n",
      "Requirement already satisfied: typing-inspect<1,>=0.4.0 in c:\\users\\harsi\\appdata\\local\\programs\\python\\python312\\lib\\site-packages (from dataclasses-json<0.7,>=0.6.7->langchain-community) (0.9.0)\n",
      "Requirement already satisfied: langchain-text-splitters<1.0.0,>=0.3.9 in c:\\users\\harsi\\appdata\\local\\programs\\python\\python312\\lib\\site-packages (from langchain<2.0.0,>=0.3.27->langchain-community) (0.3.11)\n",
      "Requirement already satisfied: pydantic<3.0.0,>=2.7.4 in c:\\users\\harsi\\appdata\\local\\programs\\python\\python312\\lib\\site-packages (from langchain<2.0.0,>=0.3.27->langchain-community) (2.11.7)\n",
      "Requirement already satisfied: jsonpatch<2.0,>=1.33 in c:\\users\\harsi\\appdata\\local\\programs\\python\\python312\\lib\\site-packages (from langchain-core<2.0.0,>=0.3.75->langchain-community) (1.33)\n",
      "Requirement already satisfied: typing-extensions>=4.7 in c:\\users\\harsi\\appdata\\local\\programs\\python\\python312\\lib\\site-packages (from langchain-core<2.0.0,>=0.3.75->langchain-community) (4.12.2)\n",
      "Requirement already satisfied: packaging>=23.2 in c:\\users\\harsi\\appdata\\local\\programs\\python\\python312\\lib\\site-packages (from langchain-core<2.0.0,>=0.3.75->langchain-community) (24.1)\n",
      "Requirement already satisfied: jsonpointer>=1.9 in c:\\users\\harsi\\appdata\\local\\programs\\python\\python312\\lib\\site-packages (from jsonpatch<2.0,>=1.33->langchain-core<2.0.0,>=0.3.75->langchain-community) (3.0.0)\n",
      "Requirement already satisfied: annotated-types>=0.6.0 in c:\\users\\harsi\\appdata\\local\\programs\\python\\python312\\lib\\site-packages (from pydantic<3.0.0,>=2.7.4->langchain<2.0.0,>=0.3.27->langchain-community) (0.7.0)\n",
      "Requirement already satisfied: pydantic-core==2.33.2 in c:\\users\\harsi\\appdata\\local\\programs\\python\\python312\\lib\\site-packages (from pydantic<3.0.0,>=2.7.4->langchain<2.0.0,>=0.3.27->langchain-community) (2.33.2)\n",
      "Requirement already satisfied: typing-inspection>=0.4.0 in c:\\users\\harsi\\appdata\\local\\programs\\python\\python312\\lib\\site-packages (from pydantic<3.0.0,>=2.7.4->langchain<2.0.0,>=0.3.27->langchain-community) (0.4.1)\n",
      "Requirement already satisfied: python-dotenv>=0.21.0 in c:\\users\\harsi\\appdata\\local\\programs\\python\\python312\\lib\\site-packages (from pydantic-settings<3.0.0,>=2.10.1->langchain-community) (1.1.1)\n",
      "Requirement already satisfied: charset_normalizer<4,>=2 in c:\\users\\harsi\\appdata\\local\\programs\\python\\python312\\lib\\site-packages (from requests<3,>=2.32.5->langchain-community) (3.4.0)\n",
      "Requirement already satisfied: idna<4,>=2.5 in c:\\users\\harsi\\appdata\\local\\programs\\python\\python312\\lib\\site-packages (from requests<3,>=2.32.5->langchain-community) (3.10)\n",
      "Requirement already satisfied: urllib3<3,>=1.21.1 in c:\\users\\harsi\\appdata\\local\\programs\\python\\python312\\lib\\site-packages (from requests<3,>=2.32.5->langchain-community) (2.2.3)\n",
      "Requirement already satisfied: certifi>=2017.4.17 in c:\\users\\harsi\\appdata\\local\\programs\\python\\python312\\lib\\site-packages (from requests<3,>=2.32.5->langchain-community) (2024.12.14)\n",
      "Requirement already satisfied: greenlet>=1 in c:\\users\\harsi\\appdata\\local\\programs\\python\\python312\\lib\\site-packages (from SQLAlchemy<3,>=1.4->langchain-community) (3.2.4)\n",
      "Requirement already satisfied: mypy-extensions>=0.3.0 in c:\\users\\harsi\\appdata\\local\\programs\\python\\python312\\lib\\site-packages (from typing-inspect<1,>=0.4.0->dataclasses-json<0.7,>=0.6.7->langchain-community) (1.1.0)\n",
      "Requirement already satisfied: httpx<1,>=0.23.0 in c:\\users\\harsi\\appdata\\local\\programs\\python\\python312\\lib\\site-packages (from langsmith>=0.1.125->langchain-community) (0.28.1)\n",
      "Requirement already satisfied: orjson>=3.9.14 in c:\\users\\harsi\\appdata\\local\\programs\\python\\python312\\lib\\site-packages (from langsmith>=0.1.125->langchain-community) (3.11.3)\n",
      "Requirement already satisfied: requests-toolbelt>=1.0.0 in c:\\users\\harsi\\appdata\\local\\programs\\python\\python312\\lib\\site-packages (from langsmith>=0.1.125->langchain-community) (1.0.0)\n",
      "Requirement already satisfied: zstandard>=0.23.0 in c:\\users\\harsi\\appdata\\local\\programs\\python\\python312\\lib\\site-packages (from langsmith>=0.1.125->langchain-community) (0.24.0)\n",
      "Requirement already satisfied: anyio in c:\\users\\harsi\\appdata\\local\\programs\\python\\python312\\lib\\site-packages (from httpx<1,>=0.23.0->langsmith>=0.1.125->langchain-community) (4.9.0)\n",
      "Requirement already satisfied: httpcore==1.* in c:\\users\\harsi\\appdata\\local\\programs\\python\\python312\\lib\\site-packages (from httpx<1,>=0.23.0->langsmith>=0.1.125->langchain-community) (1.0.9)\n",
      "Requirement already satisfied: h11>=0.16 in c:\\users\\harsi\\appdata\\local\\programs\\python\\python312\\lib\\site-packages (from httpcore==1.*->httpx<1,>=0.23.0->langsmith>=0.1.125->langchain-community) (0.16.0)\n",
      "Requirement already satisfied: sniffio>=1.1 in c:\\users\\harsi\\appdata\\local\\programs\\python\\python312\\lib\\site-packages (from anyio->httpx<1,>=0.23.0->langsmith>=0.1.125->langchain-community) (1.3.1)\n",
      "Downloading pypdf-6.0.0-py3-none-any.whl (310 kB)\n",
      "Installing collected packages: pypdf\n",
      "Successfully installed pypdf-6.0.0\n",
      "Note: you may need to restart the kernel to use updated packages.\n"
     ]
    },
    {
     "name": "stderr",
     "output_type": "stream",
     "text": [
      "\n",
      "[notice] A new release of pip is available: 25.1.1 -> 25.2\n",
      "[notice] To update, run: C:\\Users\\harsi\\AppData\\Local\\Programs\\Python\\Python312\\python.exe -m pip install --upgrade pip\n"
     ]
    }
   ],
   "execution_count": 10
  },
  {
   "cell_type": "code",
   "id": "50eab39c",
   "metadata": {
    "ExecuteTime": {
     "end_time": "2025-09-11T08:51:16.975049Z",
     "start_time": "2025-09-11T08:51:16.956760Z"
    }
   },
   "source": [
    "# Split document into small chunks\n",
    "from langchain_text_splitters import RecursiveCharacterTextSplitter\n",
    "\n",
    "text_splitter = RecursiveCharacterTextSplitter(\n",
    "    chunk_size=1000,  # chunk size (characters)\n",
    "    chunk_overlap=200,  # chunk overlap (characters)\n",
    "    add_start_index=True,  # track index in original document\n",
    ")\n",
    "all_splits = text_splitter.split_documents(document)\n",
    "\n",
    "print(f\"Split given book into {len(all_splits)} sub-documents.\")"
   ],
   "outputs": [
    {
     "name": "stdout",
     "output_type": "stream",
     "text": [
      "Split given book into 676 sub-documents.\n"
     ]
    }
   ],
   "execution_count": 8
  },
  {
   "cell_type": "markdown",
   "id": "d68dd2b5",
   "metadata": {},
   "source": [
    "### Embedding"
   ]
  },
  {
   "cell_type": "code",
   "id": "758a909b",
   "metadata": {
    "ExecuteTime": {
     "end_time": "2025-09-11T08:53:36.119109Z",
     "start_time": "2025-09-11T08:53:34.002571Z"
    }
   },
   "source": [
    "from langchain_google_genai import GoogleGenerativeAIEmbeddings\n",
    "\n",
    "embeddings = GoogleGenerativeAIEmbeddings(model=\"models/embedding-001\")\n",
    "\n",
    "# Create a vector store\n",
    "# (CLASSROOM DISCUSSION: What are vector stores? What do we make them?)\n",
    "from langchain_core.vectorstores import InMemoryVectorStore\n",
    "vector_store = InMemoryVectorStore(embeddings)\n",
    "\n",
    "# Adding documents to vector store\n",
    "document_ids = vector_store.add_documents(documents=all_splits)\n"
   ],
   "outputs": [
    {
     "ename": "GoogleGenerativeAIError",
     "evalue": "Error embedding content: 429 You exceeded your current quota, please check your plan and billing details. For more information on this error, head to: https://ai.google.dev/gemini-api/docs/rate-limits. [violations {\n  quota_metric: \"generativelanguage.googleapis.com/embed_content_free_tier_requests\"\n  quota_id: \"EmbedContentRequestsPerMinutePerProjectPerModel-FreeTier\"\n}\nviolations {\n  quota_metric: \"generativelanguage.googleapis.com/embed_content_free_tier_requests\"\n  quota_id: \"EmbedContentRequestsPerMinutePerUserPerProjectPerModel-FreeTier\"\n}\nviolations {\n  quota_metric: \"generativelanguage.googleapis.com/embed_content_free_tier_requests\"\n  quota_id: \"EmbedContentRequestsPerDayPerUserPerProjectPerModel-FreeTier\"\n}\nviolations {\n  quota_metric: \"generativelanguage.googleapis.com/embed_content_free_tier_requests\"\n  quota_id: \"EmbedContentRequestsPerDayPerProjectPerModel-FreeTier\"\n}\n, links {\n  description: \"Learn more about Gemini API quotas\"\n  url: \"https://ai.google.dev/gemini-api/docs/rate-limits\"\n}\n]",
     "output_type": "error",
     "traceback": [
      "\u001B[31m---------------------------------------------------------------------------\u001B[39m",
      "\u001B[31mResourceExhausted\u001B[39m                         Traceback (most recent call last)",
      "\u001B[36mFile \u001B[39m\u001B[32m~\\AppData\\Local\\Programs\\Python\\Python312\\Lib\\site-packages\\langchain_google_genai\\embeddings.py:243\u001B[39m, in \u001B[36mGoogleGenerativeAIEmbeddings.embed_documents\u001B[39m\u001B[34m(self, texts, batch_size, task_type, titles, output_dimensionality)\u001B[39m\n\u001B[32m    242\u001B[39m \u001B[38;5;28;01mtry\u001B[39;00m:\n\u001B[32m--> \u001B[39m\u001B[32m243\u001B[39m     result = \u001B[38;5;28;43mself\u001B[39;49m\u001B[43m.\u001B[49m\u001B[43mclient\u001B[49m\u001B[43m.\u001B[49m\u001B[43mbatch_embed_contents\u001B[49m\u001B[43m(\u001B[49m\n\u001B[32m    244\u001B[39m \u001B[43m        \u001B[49m\u001B[43mBatchEmbedContentsRequest\u001B[49m\u001B[43m(\u001B[49m\u001B[43mrequests\u001B[49m\u001B[43m=\u001B[49m\u001B[43mrequests\u001B[49m\u001B[43m,\u001B[49m\u001B[43m \u001B[49m\u001B[43mmodel\u001B[49m\u001B[43m=\u001B[49m\u001B[38;5;28;43mself\u001B[39;49m\u001B[43m.\u001B[49m\u001B[43mmodel\u001B[49m\u001B[43m)\u001B[49m\n\u001B[32m    245\u001B[39m \u001B[43m    \u001B[49m\u001B[43m)\u001B[49m\n\u001B[32m    246\u001B[39m \u001B[38;5;28;01mexcept\u001B[39;00m \u001B[38;5;167;01mException\u001B[39;00m \u001B[38;5;28;01mas\u001B[39;00m e:\n",
      "\u001B[36mFile \u001B[39m\u001B[32m~\\AppData\\Local\\Programs\\Python\\Python312\\Lib\\site-packages\\google\\ai\\generativelanguage_v1beta\\services\\generative_service\\client.py:1437\u001B[39m, in \u001B[36mGenerativeServiceClient.batch_embed_contents\u001B[39m\u001B[34m(self, request, model, requests, retry, timeout, metadata)\u001B[39m\n\u001B[32m   1436\u001B[39m \u001B[38;5;66;03m# Send the request.\u001B[39;00m\n\u001B[32m-> \u001B[39m\u001B[32m1437\u001B[39m response = \u001B[43mrpc\u001B[49m\u001B[43m(\u001B[49m\n\u001B[32m   1438\u001B[39m \u001B[43m    \u001B[49m\u001B[43mrequest\u001B[49m\u001B[43m,\u001B[49m\n\u001B[32m   1439\u001B[39m \u001B[43m    \u001B[49m\u001B[43mretry\u001B[49m\u001B[43m=\u001B[49m\u001B[43mretry\u001B[49m\u001B[43m,\u001B[49m\n\u001B[32m   1440\u001B[39m \u001B[43m    \u001B[49m\u001B[43mtimeout\u001B[49m\u001B[43m=\u001B[49m\u001B[43mtimeout\u001B[49m\u001B[43m,\u001B[49m\n\u001B[32m   1441\u001B[39m \u001B[43m    \u001B[49m\u001B[43mmetadata\u001B[49m\u001B[43m=\u001B[49m\u001B[43mmetadata\u001B[49m\u001B[43m,\u001B[49m\n\u001B[32m   1442\u001B[39m \u001B[43m\u001B[49m\u001B[43m)\u001B[49m\n\u001B[32m   1444\u001B[39m \u001B[38;5;66;03m# Done; return the response.\u001B[39;00m\n",
      "\u001B[36mFile \u001B[39m\u001B[32m~\\AppData\\Local\\Programs\\Python\\Python312\\Lib\\site-packages\\google\\api_core\\gapic_v1\\method.py:131\u001B[39m, in \u001B[36m_GapicCallable.__call__\u001B[39m\u001B[34m(self, timeout, retry, compression, *args, **kwargs)\u001B[39m\n\u001B[32m    129\u001B[39m     kwargs[\u001B[33m\"\u001B[39m\u001B[33mcompression\u001B[39m\u001B[33m\"\u001B[39m] = compression\n\u001B[32m--> \u001B[39m\u001B[32m131\u001B[39m \u001B[38;5;28;01mreturn\u001B[39;00m \u001B[43mwrapped_func\u001B[49m\u001B[43m(\u001B[49m\u001B[43m*\u001B[49m\u001B[43margs\u001B[49m\u001B[43m,\u001B[49m\u001B[43m \u001B[49m\u001B[43m*\u001B[49m\u001B[43m*\u001B[49m\u001B[43mkwargs\u001B[49m\u001B[43m)\u001B[49m\n",
      "\u001B[36mFile \u001B[39m\u001B[32m~\\AppData\\Local\\Programs\\Python\\Python312\\Lib\\site-packages\\google\\api_core\\retry\\retry_unary.py:294\u001B[39m, in \u001B[36mRetry.__call__.<locals>.retry_wrapped_func\u001B[39m\u001B[34m(*args, **kwargs)\u001B[39m\n\u001B[32m    291\u001B[39m sleep_generator = exponential_sleep_generator(\n\u001B[32m    292\u001B[39m     \u001B[38;5;28mself\u001B[39m._initial, \u001B[38;5;28mself\u001B[39m._maximum, multiplier=\u001B[38;5;28mself\u001B[39m._multiplier\n\u001B[32m    293\u001B[39m )\n\u001B[32m--> \u001B[39m\u001B[32m294\u001B[39m \u001B[38;5;28;01mreturn\u001B[39;00m \u001B[43mretry_target\u001B[49m\u001B[43m(\u001B[49m\n\u001B[32m    295\u001B[39m \u001B[43m    \u001B[49m\u001B[43mtarget\u001B[49m\u001B[43m,\u001B[49m\n\u001B[32m    296\u001B[39m \u001B[43m    \u001B[49m\u001B[38;5;28;43mself\u001B[39;49m\u001B[43m.\u001B[49m\u001B[43m_predicate\u001B[49m\u001B[43m,\u001B[49m\n\u001B[32m    297\u001B[39m \u001B[43m    \u001B[49m\u001B[43msleep_generator\u001B[49m\u001B[43m,\u001B[49m\n\u001B[32m    298\u001B[39m \u001B[43m    \u001B[49m\u001B[43mtimeout\u001B[49m\u001B[43m=\u001B[49m\u001B[38;5;28;43mself\u001B[39;49m\u001B[43m.\u001B[49m\u001B[43m_timeout\u001B[49m\u001B[43m,\u001B[49m\n\u001B[32m    299\u001B[39m \u001B[43m    \u001B[49m\u001B[43mon_error\u001B[49m\u001B[43m=\u001B[49m\u001B[43mon_error\u001B[49m\u001B[43m,\u001B[49m\n\u001B[32m    300\u001B[39m \u001B[43m\u001B[49m\u001B[43m)\u001B[49m\n",
      "\u001B[36mFile \u001B[39m\u001B[32m~\\AppData\\Local\\Programs\\Python\\Python312\\Lib\\site-packages\\google\\api_core\\retry\\retry_unary.py:156\u001B[39m, in \u001B[36mretry_target\u001B[39m\u001B[34m(target, predicate, sleep_generator, timeout, on_error, exception_factory, **kwargs)\u001B[39m\n\u001B[32m    154\u001B[39m \u001B[38;5;28;01mexcept\u001B[39;00m \u001B[38;5;167;01mException\u001B[39;00m \u001B[38;5;28;01mas\u001B[39;00m exc:\n\u001B[32m    155\u001B[39m     \u001B[38;5;66;03m# defer to shared logic for handling errors\u001B[39;00m\n\u001B[32m--> \u001B[39m\u001B[32m156\u001B[39m     next_sleep = \u001B[43m_retry_error_helper\u001B[49m\u001B[43m(\u001B[49m\n\u001B[32m    157\u001B[39m \u001B[43m        \u001B[49m\u001B[43mexc\u001B[49m\u001B[43m,\u001B[49m\n\u001B[32m    158\u001B[39m \u001B[43m        \u001B[49m\u001B[43mdeadline\u001B[49m\u001B[43m,\u001B[49m\n\u001B[32m    159\u001B[39m \u001B[43m        \u001B[49m\u001B[43msleep_iter\u001B[49m\u001B[43m,\u001B[49m\n\u001B[32m    160\u001B[39m \u001B[43m        \u001B[49m\u001B[43merror_list\u001B[49m\u001B[43m,\u001B[49m\n\u001B[32m    161\u001B[39m \u001B[43m        \u001B[49m\u001B[43mpredicate\u001B[49m\u001B[43m,\u001B[49m\n\u001B[32m    162\u001B[39m \u001B[43m        \u001B[49m\u001B[43mon_error\u001B[49m\u001B[43m,\u001B[49m\n\u001B[32m    163\u001B[39m \u001B[43m        \u001B[49m\u001B[43mexception_factory\u001B[49m\u001B[43m,\u001B[49m\n\u001B[32m    164\u001B[39m \u001B[43m        \u001B[49m\u001B[43mtimeout\u001B[49m\u001B[43m,\u001B[49m\n\u001B[32m    165\u001B[39m \u001B[43m    \u001B[49m\u001B[43m)\u001B[49m\n\u001B[32m    166\u001B[39m     \u001B[38;5;66;03m# if exception not raised, sleep before next attempt\u001B[39;00m\n",
      "\u001B[36mFile \u001B[39m\u001B[32m~\\AppData\\Local\\Programs\\Python\\Python312\\Lib\\site-packages\\google\\api_core\\retry\\retry_base.py:214\u001B[39m, in \u001B[36m_retry_error_helper\u001B[39m\u001B[34m(exc, deadline, sleep_iterator, error_list, predicate_fn, on_error_fn, exc_factory_fn, original_timeout)\u001B[39m\n\u001B[32m    209\u001B[39m     final_exc, source_exc = exc_factory_fn(\n\u001B[32m    210\u001B[39m         error_list,\n\u001B[32m    211\u001B[39m         RetryFailureReason.NON_RETRYABLE_ERROR,\n\u001B[32m    212\u001B[39m         original_timeout,\n\u001B[32m    213\u001B[39m     )\n\u001B[32m--> \u001B[39m\u001B[32m214\u001B[39m     \u001B[38;5;28;01mraise\u001B[39;00m final_exc \u001B[38;5;28;01mfrom\u001B[39;00m\u001B[38;5;250m \u001B[39m\u001B[34;01msource_exc\u001B[39;00m\n\u001B[32m    215\u001B[39m \u001B[38;5;28;01mif\u001B[39;00m on_error_fn \u001B[38;5;129;01mis\u001B[39;00m \u001B[38;5;129;01mnot\u001B[39;00m \u001B[38;5;28;01mNone\u001B[39;00m:\n",
      "\u001B[36mFile \u001B[39m\u001B[32m~\\AppData\\Local\\Programs\\Python\\Python312\\Lib\\site-packages\\google\\api_core\\retry\\retry_unary.py:147\u001B[39m, in \u001B[36mretry_target\u001B[39m\u001B[34m(target, predicate, sleep_generator, timeout, on_error, exception_factory, **kwargs)\u001B[39m\n\u001B[32m    146\u001B[39m \u001B[38;5;28;01mtry\u001B[39;00m:\n\u001B[32m--> \u001B[39m\u001B[32m147\u001B[39m     result = \u001B[43mtarget\u001B[49m\u001B[43m(\u001B[49m\u001B[43m)\u001B[49m\n\u001B[32m    148\u001B[39m     \u001B[38;5;28;01mif\u001B[39;00m inspect.isawaitable(result):\n",
      "\u001B[36mFile \u001B[39m\u001B[32m~\\AppData\\Local\\Programs\\Python\\Python312\\Lib\\site-packages\\google\\api_core\\timeout.py:130\u001B[39m, in \u001B[36mTimeToDeadlineTimeout.__call__.<locals>.func_with_timeout\u001B[39m\u001B[34m(*args, **kwargs)\u001B[39m\n\u001B[32m    128\u001B[39m     kwargs[\u001B[33m\"\u001B[39m\u001B[33mtimeout\u001B[39m\u001B[33m\"\u001B[39m] = remaining_timeout\n\u001B[32m--> \u001B[39m\u001B[32m130\u001B[39m \u001B[38;5;28;01mreturn\u001B[39;00m \u001B[43mfunc\u001B[49m\u001B[43m(\u001B[49m\u001B[43m*\u001B[49m\u001B[43margs\u001B[49m\u001B[43m,\u001B[49m\u001B[43m \u001B[49m\u001B[43m*\u001B[49m\u001B[43m*\u001B[49m\u001B[43mkwargs\u001B[49m\u001B[43m)\u001B[49m\n",
      "\u001B[36mFile \u001B[39m\u001B[32m~\\AppData\\Local\\Programs\\Python\\Python312\\Lib\\site-packages\\google\\api_core\\grpc_helpers.py:78\u001B[39m, in \u001B[36m_wrap_unary_errors.<locals>.error_remapped_callable\u001B[39m\u001B[34m(*args, **kwargs)\u001B[39m\n\u001B[32m     77\u001B[39m \u001B[38;5;28;01mexcept\u001B[39;00m grpc.RpcError \u001B[38;5;28;01mas\u001B[39;00m exc:\n\u001B[32m---> \u001B[39m\u001B[32m78\u001B[39m     \u001B[38;5;28;01mraise\u001B[39;00m exceptions.from_grpc_error(exc) \u001B[38;5;28;01mfrom\u001B[39;00m\u001B[38;5;250m \u001B[39m\u001B[34;01mexc\u001B[39;00m\n",
      "\u001B[31mResourceExhausted\u001B[39m: 429 You exceeded your current quota, please check your plan and billing details. For more information on this error, head to: https://ai.google.dev/gemini-api/docs/rate-limits. [violations {\n  quota_metric: \"generativelanguage.googleapis.com/embed_content_free_tier_requests\"\n  quota_id: \"EmbedContentRequestsPerMinutePerProjectPerModel-FreeTier\"\n}\nviolations {\n  quota_metric: \"generativelanguage.googleapis.com/embed_content_free_tier_requests\"\n  quota_id: \"EmbedContentRequestsPerMinutePerUserPerProjectPerModel-FreeTier\"\n}\nviolations {\n  quota_metric: \"generativelanguage.googleapis.com/embed_content_free_tier_requests\"\n  quota_id: \"EmbedContentRequestsPerDayPerUserPerProjectPerModel-FreeTier\"\n}\nviolations {\n  quota_metric: \"generativelanguage.googleapis.com/embed_content_free_tier_requests\"\n  quota_id: \"EmbedContentRequestsPerDayPerProjectPerModel-FreeTier\"\n}\n, links {\n  description: \"Learn more about Gemini API quotas\"\n  url: \"https://ai.google.dev/gemini-api/docs/rate-limits\"\n}\n]",
      "\nThe above exception was the direct cause of the following exception:\n",
      "\u001B[31mGoogleGenerativeAIError\u001B[39m                   Traceback (most recent call last)",
      "\u001B[36mCell\u001B[39m\u001B[36m \u001B[39m\u001B[32mIn[11]\u001B[39m\u001B[32m, line 11\u001B[39m\n\u001B[32m      8\u001B[39m vector_store = InMemoryVectorStore(embeddings)\n\u001B[32m     10\u001B[39m \u001B[38;5;66;03m# Adding documents to vector store\u001B[39;00m\n\u001B[32m---> \u001B[39m\u001B[32m11\u001B[39m document_ids = \u001B[43mvector_store\u001B[49m\u001B[43m.\u001B[49m\u001B[43madd_documents\u001B[49m\u001B[43m(\u001B[49m\u001B[43mdocuments\u001B[49m\u001B[43m=\u001B[49m\u001B[43mall_splits\u001B[49m\u001B[43m)\u001B[49m\n",
      "\u001B[36mFile \u001B[39m\u001B[32m~\\AppData\\Local\\Programs\\Python\\Python312\\Lib\\site-packages\\langchain_core\\vectorstores\\in_memory.py:195\u001B[39m, in \u001B[36mInMemoryVectorStore.add_documents\u001B[39m\u001B[34m(self, documents, ids, **kwargs)\u001B[39m\n\u001B[32m    193\u001B[39m \u001B[38;5;250m\u001B[39m\u001B[33;03m\"\"\"Add documents to the store.\"\"\"\u001B[39;00m\n\u001B[32m    194\u001B[39m texts = [doc.page_content \u001B[38;5;28;01mfor\u001B[39;00m doc \u001B[38;5;129;01min\u001B[39;00m documents]\n\u001B[32m--> \u001B[39m\u001B[32m195\u001B[39m vectors = \u001B[38;5;28;43mself\u001B[39;49m\u001B[43m.\u001B[49m\u001B[43membedding\u001B[49m\u001B[43m.\u001B[49m\u001B[43membed_documents\u001B[49m\u001B[43m(\u001B[49m\u001B[43mtexts\u001B[49m\u001B[43m)\u001B[49m\n\u001B[32m    197\u001B[39m \u001B[38;5;28;01mif\u001B[39;00m ids \u001B[38;5;129;01mand\u001B[39;00m \u001B[38;5;28mlen\u001B[39m(ids) != \u001B[38;5;28mlen\u001B[39m(texts):\n\u001B[32m    198\u001B[39m     msg = (\n\u001B[32m    199\u001B[39m         \u001B[33mf\u001B[39m\u001B[33m\"\u001B[39m\u001B[33mids must be the same length as texts. \u001B[39m\u001B[33m\"\u001B[39m\n\u001B[32m    200\u001B[39m         \u001B[33mf\u001B[39m\u001B[33m\"\u001B[39m\u001B[33mGot \u001B[39m\u001B[38;5;132;01m{\u001B[39;00m\u001B[38;5;28mlen\u001B[39m(ids)\u001B[38;5;132;01m}\u001B[39;00m\u001B[33m ids and \u001B[39m\u001B[38;5;132;01m{\u001B[39;00m\u001B[38;5;28mlen\u001B[39m(texts)\u001B[38;5;132;01m}\u001B[39;00m\u001B[33m texts.\u001B[39m\u001B[33m\"\u001B[39m\n\u001B[32m    201\u001B[39m     )\n",
      "\u001B[36mFile \u001B[39m\u001B[32m~\\AppData\\Local\\Programs\\Python\\Python312\\Lib\\site-packages\\langchain_google_genai\\embeddings.py:247\u001B[39m, in \u001B[36mGoogleGenerativeAIEmbeddings.embed_documents\u001B[39m\u001B[34m(self, texts, batch_size, task_type, titles, output_dimensionality)\u001B[39m\n\u001B[32m    243\u001B[39m         result = \u001B[38;5;28mself\u001B[39m.client.batch_embed_contents(\n\u001B[32m    244\u001B[39m             BatchEmbedContentsRequest(requests=requests, model=\u001B[38;5;28mself\u001B[39m.model)\n\u001B[32m    245\u001B[39m         )\n\u001B[32m    246\u001B[39m     \u001B[38;5;28;01mexcept\u001B[39;00m \u001B[38;5;167;01mException\u001B[39;00m \u001B[38;5;28;01mas\u001B[39;00m e:\n\u001B[32m--> \u001B[39m\u001B[32m247\u001B[39m         \u001B[38;5;28;01mraise\u001B[39;00m GoogleGenerativeAIError(\u001B[33mf\u001B[39m\u001B[33m\"\u001B[39m\u001B[33mError embedding content: \u001B[39m\u001B[38;5;132;01m{\u001B[39;00me\u001B[38;5;132;01m}\u001B[39;00m\u001B[33m\"\u001B[39m) \u001B[38;5;28;01mfrom\u001B[39;00m\u001B[38;5;250m \u001B[39m\u001B[34;01me\u001B[39;00m\n\u001B[32m    248\u001B[39m     embeddings.extend([\u001B[38;5;28mlist\u001B[39m(e.values) \u001B[38;5;28;01mfor\u001B[39;00m e \u001B[38;5;129;01min\u001B[39;00m result.embeddings])\n\u001B[32m    249\u001B[39m \u001B[38;5;28;01mreturn\u001B[39;00m embeddings\n",
      "\u001B[31mGoogleGenerativeAIError\u001B[39m: Error embedding content: 429 You exceeded your current quota, please check your plan and billing details. For more information on this error, head to: https://ai.google.dev/gemini-api/docs/rate-limits. [violations {\n  quota_metric: \"generativelanguage.googleapis.com/embed_content_free_tier_requests\"\n  quota_id: \"EmbedContentRequestsPerMinutePerProjectPerModel-FreeTier\"\n}\nviolations {\n  quota_metric: \"generativelanguage.googleapis.com/embed_content_free_tier_requests\"\n  quota_id: \"EmbedContentRequestsPerMinutePerUserPerProjectPerModel-FreeTier\"\n}\nviolations {\n  quota_metric: \"generativelanguage.googleapis.com/embed_content_free_tier_requests\"\n  quota_id: \"EmbedContentRequestsPerDayPerUserPerProjectPerModel-FreeTier\"\n}\nviolations {\n  quota_metric: \"generativelanguage.googleapis.com/embed_content_free_tier_requests\"\n  quota_id: \"EmbedContentRequestsPerDayPerProjectPerModel-FreeTier\"\n}\n, links {\n  description: \"Learn more about Gemini API quotas\"\n  url: \"https://ai.google.dev/gemini-api/docs/rate-limits\"\n}\n]"
     ]
    }
   ],
   "execution_count": 11
  },
  {
   "cell_type": "code",
   "id": "4e746c37",
   "metadata": {
    "ExecuteTime": {
     "end_time": "2025-09-11T08:55:19.917714Z",
     "start_time": "2025-09-11T08:55:19.892669Z"
    }
   },
   "source": [
    "document_ids"
   ],
   "outputs": [
    {
     "ename": "NameError",
     "evalue": "name 'document_ids' is not defined",
     "output_type": "error",
     "traceback": [
      "\u001B[31m---------------------------------------------------------------------------\u001B[39m",
      "\u001B[31mNameError\u001B[39m                                 Traceback (most recent call last)",
      "\u001B[36mCell\u001B[39m\u001B[36m \u001B[39m\u001B[32mIn[12]\u001B[39m\u001B[32m, line 1\u001B[39m\n\u001B[32m----> \u001B[39m\u001B[32m1\u001B[39m \u001B[43mdocument_ids\u001B[49m\n",
      "\u001B[31mNameError\u001B[39m: name 'document_ids' is not defined"
     ]
    }
   ],
   "execution_count": 12
  },
  {
   "cell_type": "code",
   "id": "c6363c9a",
   "metadata": {
    "ExecuteTime": {
     "end_time": "2025-09-11T08:55:23.433930Z",
     "start_time": "2025-09-11T08:55:22.918256Z"
    }
   },
   "source": [
    "# extract chunks which matches with your query\n",
    "\n",
    "search_results = vector_store.similarity_search_with_score(\n",
    "    \"What is the weight of the car in 2025\",\n",
    "    k = 10\n",
    ")"
   ],
   "outputs": [
    {
     "ename": "GoogleGenerativeAIError",
     "evalue": "Error embedding content: 429 You exceeded your current quota, please check your plan and billing details. For more information on this error, head to: https://ai.google.dev/gemini-api/docs/rate-limits. [violations {\n  quota_metric: \"generativelanguage.googleapis.com/embed_content_free_tier_requests\"\n  quota_id: \"EmbedContentRequestsPerDayPerProjectPerModel-FreeTier\"\n}\nviolations {\n  quota_metric: \"generativelanguage.googleapis.com/embed_content_free_tier_requests\"\n  quota_id: \"EmbedContentRequestsPerDayPerUserPerProjectPerModel-FreeTier\"\n}\nviolations {\n  quota_metric: \"generativelanguage.googleapis.com/embed_content_free_tier_requests\"\n  quota_id: \"EmbedContentRequestsPerMinutePerUserPerProjectPerModel-FreeTier\"\n}\nviolations {\n  quota_metric: \"generativelanguage.googleapis.com/embed_content_free_tier_requests\"\n  quota_id: \"EmbedContentRequestsPerMinutePerProjectPerModel-FreeTier\"\n}\n, links {\n  description: \"Learn more about Gemini API quotas\"\n  url: \"https://ai.google.dev/gemini-api/docs/rate-limits\"\n}\n]",
     "output_type": "error",
     "traceback": [
      "\u001B[31m---------------------------------------------------------------------------\u001B[39m",
      "\u001B[31mResourceExhausted\u001B[39m                         Traceback (most recent call last)",
      "\u001B[36mFile \u001B[39m\u001B[32m~\\AppData\\Local\\Programs\\Python\\Python312\\Lib\\site-packages\\langchain_google_genai\\embeddings.py:281\u001B[39m, in \u001B[36mGoogleGenerativeAIEmbeddings.embed_query\u001B[39m\u001B[34m(self, text, task_type, title, output_dimensionality)\u001B[39m\n\u001B[32m    275\u001B[39m     request: EmbedContentRequest = \u001B[38;5;28mself\u001B[39m._prepare_request(\n\u001B[32m    276\u001B[39m         text=text,\n\u001B[32m    277\u001B[39m         task_type=task_type,\n\u001B[32m    278\u001B[39m         title=title,\n\u001B[32m    279\u001B[39m         output_dimensionality=output_dimensionality,\n\u001B[32m    280\u001B[39m     )\n\u001B[32m--> \u001B[39m\u001B[32m281\u001B[39m     result: EmbedContentResponse = \u001B[38;5;28;43mself\u001B[39;49m\u001B[43m.\u001B[49m\u001B[43mclient\u001B[49m\u001B[43m.\u001B[49m\u001B[43membed_content\u001B[49m\u001B[43m(\u001B[49m\u001B[43mrequest\u001B[49m\u001B[43m)\u001B[49m\n\u001B[32m    282\u001B[39m \u001B[38;5;28;01mexcept\u001B[39;00m \u001B[38;5;167;01mException\u001B[39;00m \u001B[38;5;28;01mas\u001B[39;00m e:\n",
      "\u001B[36mFile \u001B[39m\u001B[32m~\\AppData\\Local\\Programs\\Python\\Python312\\Lib\\site-packages\\google\\ai\\generativelanguage_v1beta\\services\\generative_service\\client.py:1305\u001B[39m, in \u001B[36mGenerativeServiceClient.embed_content\u001B[39m\u001B[34m(self, request, model, content, retry, timeout, metadata)\u001B[39m\n\u001B[32m   1304\u001B[39m \u001B[38;5;66;03m# Send the request.\u001B[39;00m\n\u001B[32m-> \u001B[39m\u001B[32m1305\u001B[39m response = \u001B[43mrpc\u001B[49m\u001B[43m(\u001B[49m\n\u001B[32m   1306\u001B[39m \u001B[43m    \u001B[49m\u001B[43mrequest\u001B[49m\u001B[43m,\u001B[49m\n\u001B[32m   1307\u001B[39m \u001B[43m    \u001B[49m\u001B[43mretry\u001B[49m\u001B[43m=\u001B[49m\u001B[43mretry\u001B[49m\u001B[43m,\u001B[49m\n\u001B[32m   1308\u001B[39m \u001B[43m    \u001B[49m\u001B[43mtimeout\u001B[49m\u001B[43m=\u001B[49m\u001B[43mtimeout\u001B[49m\u001B[43m,\u001B[49m\n\u001B[32m   1309\u001B[39m \u001B[43m    \u001B[49m\u001B[43mmetadata\u001B[49m\u001B[43m=\u001B[49m\u001B[43mmetadata\u001B[49m\u001B[43m,\u001B[49m\n\u001B[32m   1310\u001B[39m \u001B[43m\u001B[49m\u001B[43m)\u001B[49m\n\u001B[32m   1312\u001B[39m \u001B[38;5;66;03m# Done; return the response.\u001B[39;00m\n",
      "\u001B[36mFile \u001B[39m\u001B[32m~\\AppData\\Local\\Programs\\Python\\Python312\\Lib\\site-packages\\google\\api_core\\gapic_v1\\method.py:131\u001B[39m, in \u001B[36m_GapicCallable.__call__\u001B[39m\u001B[34m(self, timeout, retry, compression, *args, **kwargs)\u001B[39m\n\u001B[32m    129\u001B[39m     kwargs[\u001B[33m\"\u001B[39m\u001B[33mcompression\u001B[39m\u001B[33m\"\u001B[39m] = compression\n\u001B[32m--> \u001B[39m\u001B[32m131\u001B[39m \u001B[38;5;28;01mreturn\u001B[39;00m \u001B[43mwrapped_func\u001B[49m\u001B[43m(\u001B[49m\u001B[43m*\u001B[49m\u001B[43margs\u001B[49m\u001B[43m,\u001B[49m\u001B[43m \u001B[49m\u001B[43m*\u001B[49m\u001B[43m*\u001B[49m\u001B[43mkwargs\u001B[49m\u001B[43m)\u001B[49m\n",
      "\u001B[36mFile \u001B[39m\u001B[32m~\\AppData\\Local\\Programs\\Python\\Python312\\Lib\\site-packages\\google\\api_core\\retry\\retry_unary.py:294\u001B[39m, in \u001B[36mRetry.__call__.<locals>.retry_wrapped_func\u001B[39m\u001B[34m(*args, **kwargs)\u001B[39m\n\u001B[32m    291\u001B[39m sleep_generator = exponential_sleep_generator(\n\u001B[32m    292\u001B[39m     \u001B[38;5;28mself\u001B[39m._initial, \u001B[38;5;28mself\u001B[39m._maximum, multiplier=\u001B[38;5;28mself\u001B[39m._multiplier\n\u001B[32m    293\u001B[39m )\n\u001B[32m--> \u001B[39m\u001B[32m294\u001B[39m \u001B[38;5;28;01mreturn\u001B[39;00m \u001B[43mretry_target\u001B[49m\u001B[43m(\u001B[49m\n\u001B[32m    295\u001B[39m \u001B[43m    \u001B[49m\u001B[43mtarget\u001B[49m\u001B[43m,\u001B[49m\n\u001B[32m    296\u001B[39m \u001B[43m    \u001B[49m\u001B[38;5;28;43mself\u001B[39;49m\u001B[43m.\u001B[49m\u001B[43m_predicate\u001B[49m\u001B[43m,\u001B[49m\n\u001B[32m    297\u001B[39m \u001B[43m    \u001B[49m\u001B[43msleep_generator\u001B[49m\u001B[43m,\u001B[49m\n\u001B[32m    298\u001B[39m \u001B[43m    \u001B[49m\u001B[43mtimeout\u001B[49m\u001B[43m=\u001B[49m\u001B[38;5;28;43mself\u001B[39;49m\u001B[43m.\u001B[49m\u001B[43m_timeout\u001B[49m\u001B[43m,\u001B[49m\n\u001B[32m    299\u001B[39m \u001B[43m    \u001B[49m\u001B[43mon_error\u001B[49m\u001B[43m=\u001B[49m\u001B[43mon_error\u001B[49m\u001B[43m,\u001B[49m\n\u001B[32m    300\u001B[39m \u001B[43m\u001B[49m\u001B[43m)\u001B[49m\n",
      "\u001B[36mFile \u001B[39m\u001B[32m~\\AppData\\Local\\Programs\\Python\\Python312\\Lib\\site-packages\\google\\api_core\\retry\\retry_unary.py:156\u001B[39m, in \u001B[36mretry_target\u001B[39m\u001B[34m(target, predicate, sleep_generator, timeout, on_error, exception_factory, **kwargs)\u001B[39m\n\u001B[32m    154\u001B[39m \u001B[38;5;28;01mexcept\u001B[39;00m \u001B[38;5;167;01mException\u001B[39;00m \u001B[38;5;28;01mas\u001B[39;00m exc:\n\u001B[32m    155\u001B[39m     \u001B[38;5;66;03m# defer to shared logic for handling errors\u001B[39;00m\n\u001B[32m--> \u001B[39m\u001B[32m156\u001B[39m     next_sleep = \u001B[43m_retry_error_helper\u001B[49m\u001B[43m(\u001B[49m\n\u001B[32m    157\u001B[39m \u001B[43m        \u001B[49m\u001B[43mexc\u001B[49m\u001B[43m,\u001B[49m\n\u001B[32m    158\u001B[39m \u001B[43m        \u001B[49m\u001B[43mdeadline\u001B[49m\u001B[43m,\u001B[49m\n\u001B[32m    159\u001B[39m \u001B[43m        \u001B[49m\u001B[43msleep_iter\u001B[49m\u001B[43m,\u001B[49m\n\u001B[32m    160\u001B[39m \u001B[43m        \u001B[49m\u001B[43merror_list\u001B[49m\u001B[43m,\u001B[49m\n\u001B[32m    161\u001B[39m \u001B[43m        \u001B[49m\u001B[43mpredicate\u001B[49m\u001B[43m,\u001B[49m\n\u001B[32m    162\u001B[39m \u001B[43m        \u001B[49m\u001B[43mon_error\u001B[49m\u001B[43m,\u001B[49m\n\u001B[32m    163\u001B[39m \u001B[43m        \u001B[49m\u001B[43mexception_factory\u001B[49m\u001B[43m,\u001B[49m\n\u001B[32m    164\u001B[39m \u001B[43m        \u001B[49m\u001B[43mtimeout\u001B[49m\u001B[43m,\u001B[49m\n\u001B[32m    165\u001B[39m \u001B[43m    \u001B[49m\u001B[43m)\u001B[49m\n\u001B[32m    166\u001B[39m     \u001B[38;5;66;03m# if exception not raised, sleep before next attempt\u001B[39;00m\n",
      "\u001B[36mFile \u001B[39m\u001B[32m~\\AppData\\Local\\Programs\\Python\\Python312\\Lib\\site-packages\\google\\api_core\\retry\\retry_base.py:214\u001B[39m, in \u001B[36m_retry_error_helper\u001B[39m\u001B[34m(exc, deadline, sleep_iterator, error_list, predicate_fn, on_error_fn, exc_factory_fn, original_timeout)\u001B[39m\n\u001B[32m    209\u001B[39m     final_exc, source_exc = exc_factory_fn(\n\u001B[32m    210\u001B[39m         error_list,\n\u001B[32m    211\u001B[39m         RetryFailureReason.NON_RETRYABLE_ERROR,\n\u001B[32m    212\u001B[39m         original_timeout,\n\u001B[32m    213\u001B[39m     )\n\u001B[32m--> \u001B[39m\u001B[32m214\u001B[39m     \u001B[38;5;28;01mraise\u001B[39;00m final_exc \u001B[38;5;28;01mfrom\u001B[39;00m\u001B[38;5;250m \u001B[39m\u001B[34;01msource_exc\u001B[39;00m\n\u001B[32m    215\u001B[39m \u001B[38;5;28;01mif\u001B[39;00m on_error_fn \u001B[38;5;129;01mis\u001B[39;00m \u001B[38;5;129;01mnot\u001B[39;00m \u001B[38;5;28;01mNone\u001B[39;00m:\n",
      "\u001B[36mFile \u001B[39m\u001B[32m~\\AppData\\Local\\Programs\\Python\\Python312\\Lib\\site-packages\\google\\api_core\\retry\\retry_unary.py:147\u001B[39m, in \u001B[36mretry_target\u001B[39m\u001B[34m(target, predicate, sleep_generator, timeout, on_error, exception_factory, **kwargs)\u001B[39m\n\u001B[32m    146\u001B[39m \u001B[38;5;28;01mtry\u001B[39;00m:\n\u001B[32m--> \u001B[39m\u001B[32m147\u001B[39m     result = \u001B[43mtarget\u001B[49m\u001B[43m(\u001B[49m\u001B[43m)\u001B[49m\n\u001B[32m    148\u001B[39m     \u001B[38;5;28;01mif\u001B[39;00m inspect.isawaitable(result):\n",
      "\u001B[36mFile \u001B[39m\u001B[32m~\\AppData\\Local\\Programs\\Python\\Python312\\Lib\\site-packages\\google\\api_core\\timeout.py:130\u001B[39m, in \u001B[36mTimeToDeadlineTimeout.__call__.<locals>.func_with_timeout\u001B[39m\u001B[34m(*args, **kwargs)\u001B[39m\n\u001B[32m    128\u001B[39m     kwargs[\u001B[33m\"\u001B[39m\u001B[33mtimeout\u001B[39m\u001B[33m\"\u001B[39m] = remaining_timeout\n\u001B[32m--> \u001B[39m\u001B[32m130\u001B[39m \u001B[38;5;28;01mreturn\u001B[39;00m \u001B[43mfunc\u001B[49m\u001B[43m(\u001B[49m\u001B[43m*\u001B[49m\u001B[43margs\u001B[49m\u001B[43m,\u001B[49m\u001B[43m \u001B[49m\u001B[43m*\u001B[49m\u001B[43m*\u001B[49m\u001B[43mkwargs\u001B[49m\u001B[43m)\u001B[49m\n",
      "\u001B[36mFile \u001B[39m\u001B[32m~\\AppData\\Local\\Programs\\Python\\Python312\\Lib\\site-packages\\google\\api_core\\grpc_helpers.py:78\u001B[39m, in \u001B[36m_wrap_unary_errors.<locals>.error_remapped_callable\u001B[39m\u001B[34m(*args, **kwargs)\u001B[39m\n\u001B[32m     77\u001B[39m \u001B[38;5;28;01mexcept\u001B[39;00m grpc.RpcError \u001B[38;5;28;01mas\u001B[39;00m exc:\n\u001B[32m---> \u001B[39m\u001B[32m78\u001B[39m     \u001B[38;5;28;01mraise\u001B[39;00m exceptions.from_grpc_error(exc) \u001B[38;5;28;01mfrom\u001B[39;00m\u001B[38;5;250m \u001B[39m\u001B[34;01mexc\u001B[39;00m\n",
      "\u001B[31mResourceExhausted\u001B[39m: 429 You exceeded your current quota, please check your plan and billing details. For more information on this error, head to: https://ai.google.dev/gemini-api/docs/rate-limits. [violations {\n  quota_metric: \"generativelanguage.googleapis.com/embed_content_free_tier_requests\"\n  quota_id: \"EmbedContentRequestsPerDayPerProjectPerModel-FreeTier\"\n}\nviolations {\n  quota_metric: \"generativelanguage.googleapis.com/embed_content_free_tier_requests\"\n  quota_id: \"EmbedContentRequestsPerDayPerUserPerProjectPerModel-FreeTier\"\n}\nviolations {\n  quota_metric: \"generativelanguage.googleapis.com/embed_content_free_tier_requests\"\n  quota_id: \"EmbedContentRequestsPerMinutePerUserPerProjectPerModel-FreeTier\"\n}\nviolations {\n  quota_metric: \"generativelanguage.googleapis.com/embed_content_free_tier_requests\"\n  quota_id: \"EmbedContentRequestsPerMinutePerProjectPerModel-FreeTier\"\n}\n, links {\n  description: \"Learn more about Gemini API quotas\"\n  url: \"https://ai.google.dev/gemini-api/docs/rate-limits\"\n}\n]",
      "\nThe above exception was the direct cause of the following exception:\n",
      "\u001B[31mGoogleGenerativeAIError\u001B[39m                   Traceback (most recent call last)",
      "\u001B[36mCell\u001B[39m\u001B[36m \u001B[39m\u001B[32mIn[13]\u001B[39m\u001B[32m, line 3\u001B[39m\n\u001B[32m      1\u001B[39m \u001B[38;5;66;03m# extract chunks which matches with your query\u001B[39;00m\n\u001B[32m----> \u001B[39m\u001B[32m3\u001B[39m search_results = \u001B[43mvector_store\u001B[49m\u001B[43m.\u001B[49m\u001B[43msimilarity_search_with_score\u001B[49m\u001B[43m(\u001B[49m\n\u001B[32m      4\u001B[39m \u001B[43m    \u001B[49m\u001B[33;43m\"\u001B[39;49m\u001B[33;43mWhat is the weight of the car in 2025\u001B[39;49m\u001B[33;43m\"\u001B[39;49m\u001B[43m,\u001B[49m\n\u001B[32m      5\u001B[39m \u001B[43m    \u001B[49m\u001B[43mk\u001B[49m\u001B[43m \u001B[49m\u001B[43m=\u001B[49m\u001B[43m \u001B[49m\u001B[32;43m10\u001B[39;49m\n\u001B[32m      6\u001B[39m \u001B[43m)\u001B[49m\n",
      "\u001B[36mFile \u001B[39m\u001B[32m~\\AppData\\Local\\Programs\\Python\\Python312\\Lib\\site-packages\\langchain_core\\vectorstores\\in_memory.py:432\u001B[39m, in \u001B[36mInMemoryVectorStore.similarity_search_with_score\u001B[39m\u001B[34m(self, query, k, **kwargs)\u001B[39m\n\u001B[32m    425\u001B[39m \u001B[38;5;129m@override\u001B[39m\n\u001B[32m    426\u001B[39m \u001B[38;5;28;01mdef\u001B[39;00m\u001B[38;5;250m \u001B[39m\u001B[34msimilarity_search_with_score\u001B[39m(\n\u001B[32m    427\u001B[39m     \u001B[38;5;28mself\u001B[39m,\n\u001B[32m   (...)\u001B[39m\u001B[32m    430\u001B[39m     **kwargs: Any,\n\u001B[32m    431\u001B[39m ) -> \u001B[38;5;28mlist\u001B[39m[\u001B[38;5;28mtuple\u001B[39m[Document, \u001B[38;5;28mfloat\u001B[39m]]:\n\u001B[32m--> \u001B[39m\u001B[32m432\u001B[39m     embedding = \u001B[38;5;28;43mself\u001B[39;49m\u001B[43m.\u001B[49m\u001B[43membedding\u001B[49m\u001B[43m.\u001B[49m\u001B[43membed_query\u001B[49m\u001B[43m(\u001B[49m\u001B[43mquery\u001B[49m\u001B[43m)\u001B[49m\n\u001B[32m    433\u001B[39m     \u001B[38;5;28;01mreturn\u001B[39;00m \u001B[38;5;28mself\u001B[39m.similarity_search_with_score_by_vector(\n\u001B[32m    434\u001B[39m         embedding,\n\u001B[32m    435\u001B[39m         k,\n\u001B[32m    436\u001B[39m         **kwargs,\n\u001B[32m    437\u001B[39m     )\n",
      "\u001B[36mFile \u001B[39m\u001B[32m~\\AppData\\Local\\Programs\\Python\\Python312\\Lib\\site-packages\\langchain_google_genai\\embeddings.py:283\u001B[39m, in \u001B[36mGoogleGenerativeAIEmbeddings.embed_query\u001B[39m\u001B[34m(self, text, task_type, title, output_dimensionality)\u001B[39m\n\u001B[32m    281\u001B[39m     result: EmbedContentResponse = \u001B[38;5;28mself\u001B[39m.client.embed_content(request)\n\u001B[32m    282\u001B[39m \u001B[38;5;28;01mexcept\u001B[39;00m \u001B[38;5;167;01mException\u001B[39;00m \u001B[38;5;28;01mas\u001B[39;00m e:\n\u001B[32m--> \u001B[39m\u001B[32m283\u001B[39m     \u001B[38;5;28;01mraise\u001B[39;00m GoogleGenerativeAIError(\u001B[33mf\u001B[39m\u001B[33m\"\u001B[39m\u001B[33mError embedding content: \u001B[39m\u001B[38;5;132;01m{\u001B[39;00me\u001B[38;5;132;01m}\u001B[39;00m\u001B[33m\"\u001B[39m) \u001B[38;5;28;01mfrom\u001B[39;00m\u001B[38;5;250m \u001B[39m\u001B[34;01me\u001B[39;00m\n\u001B[32m    284\u001B[39m \u001B[38;5;28;01mreturn\u001B[39;00m \u001B[38;5;28mlist\u001B[39m(result.embedding.values)\n",
      "\u001B[31mGoogleGenerativeAIError\u001B[39m: Error embedding content: 429 You exceeded your current quota, please check your plan and billing details. For more information on this error, head to: https://ai.google.dev/gemini-api/docs/rate-limits. [violations {\n  quota_metric: \"generativelanguage.googleapis.com/embed_content_free_tier_requests\"\n  quota_id: \"EmbedContentRequestsPerDayPerProjectPerModel-FreeTier\"\n}\nviolations {\n  quota_metric: \"generativelanguage.googleapis.com/embed_content_free_tier_requests\"\n  quota_id: \"EmbedContentRequestsPerDayPerUserPerProjectPerModel-FreeTier\"\n}\nviolations {\n  quota_metric: \"generativelanguage.googleapis.com/embed_content_free_tier_requests\"\n  quota_id: \"EmbedContentRequestsPerMinutePerUserPerProjectPerModel-FreeTier\"\n}\nviolations {\n  quota_metric: \"generativelanguage.googleapis.com/embed_content_free_tier_requests\"\n  quota_id: \"EmbedContentRequestsPerMinutePerProjectPerModel-FreeTier\"\n}\n, links {\n  description: \"Learn more about Gemini API quotas\"\n  url: \"https://ai.google.dev/gemini-api/docs/rate-limits\"\n}\n]"
     ]
    }
   ],
   "execution_count": 13
  },
  {
   "cell_type": "code",
   "id": "566ba5f3",
   "metadata": {
    "ExecuteTime": {
     "end_time": "2025-09-09T10:22:01.867071Z",
     "start_time": "2025-09-09T10:22:01.855486Z"
    }
   },
   "source": [
    "search_results"
   ],
   "outputs": [
    {
     "data": {
      "text/plain": [
       "[(Document(id='1b138abd-2a07-4bc3-a2f8-581b60142f5c', metadata={'producer': 'Microsoft® Word for Microsoft 365', 'creator': 'Microsoft® Word for Microsoft 365', 'creationdate': '2024-12-12T14:44:49+01:00', 'moddate': '2024-12-12T14:44:49+01:00', 'source': 'f1report.pdf', 'total_pages': 178, 'page': 159, 'page_label': '160', 'start_index': 0}, page_content='2025 Formula 1 Technical Regulations 160  11 December 2024 \\n© 2024 Fédération Internationale de l’Automobile  Issue 1'),\n",
       "  0.7895009273808116),\n",
       " (Document(id='d38b5e06-bb30-4cc5-8bba-12f430db2e07', metadata={'producer': 'Microsoft® Word for Microsoft 365', 'creator': 'Microsoft® Word for Microsoft 365', 'creationdate': '2024-12-12T14:44:49+01:00', 'moddate': '2024-12-12T14:44:49+01:00', 'source': 'f1report.pdf', 'total_pages': 178, 'page': 158, 'page_label': '159', 'start_index': 0}, page_content='2025 Formula 1 Technical Regulations 159  11 December 2024 \\n© 2024 Fédération Internationale de l’Automobile  Issue 1 \\n \\nAPPENDIX 2: DRAWINGS'),\n",
       "  0.7528496156319051),\n",
       " (Document(id='0c75a4f7-0ec5-44d6-8774-0f50cf2ec903', metadata={'producer': 'Microsoft® Word for Microsoft 365', 'creator': 'Microsoft® Word for Microsoft 365', 'creationdate': '2024-12-12T14:44:49+01:00', 'moddate': '2024-12-12T14:44:49+01:00', 'source': 'f1report.pdf', 'total_pages': 178, 'page': 1, 'page_label': '2', 'start_index': 0}, page_content='2025 Formula 1 Technical Regulations 2  11 December 2024 \\n© 2024 Fédération Internationale de l’Automobile  Issue 1 \\n \\n3.7 Rear Bodywork \\n3.8 Tail and Exhaust Tailpipe \\n3.9 Front Wing (FW) \\n3.10 Rear Wing \\n3.11 Final Assembly \\n3.12 Bodywork not defined in Articles 3.5 to 3.11 \\n3.13 Wheel bodywork \\n3.14 Suspension Fairings \\n3.15 Aerodynamic Component Flexibility \\n3.16 Aerodynamic Component construction \\nARTICLE 4: MASS 46 \\n4.1 Minimum mass \\n4.2 Mass distribution \\n4.3 Mass of tyres \\n4.4 Ballast \\n4.5 Adding during the race or sprint session \\n4.6 Mass of the driver \\n4.7 Heat Hazard Mass Increase \\nARTICLE 5: POWER UNIT 48 \\n5.1 Definitions \\n5.2 Engine specification \\n5.3 Other means of propulsion and energy recovery \\n5.4 Power unit dimensions \\n5.5 Mass and centre of gravity \\n5.6 Power unit torque demand \\n5.7 Power unit control \\n5.8 Engine high rev limits \\n5.9 Exhaust fluids \\n5.10 Variable geometry systems \\n5.11 Fuel systems \\n5.12 Ignition systems \\n5.13 Energy Recovery System (ERS)'),\n",
       "  0.7355460363791139),\n",
       " (Document(id='7994c3fc-f706-4c1f-9db5-57deef329d61', metadata={'producer': 'Microsoft® Word for Microsoft 365', 'creator': 'Microsoft® Word for Microsoft 365', 'creationdate': '2024-12-12T14:44:49+01:00', 'moddate': '2024-12-12T14:44:49+01:00', 'source': 'f1report.pdf', 'total_pages': 178, 'page': 45, 'page_label': '46', 'start_index': 2370}, page_content='of its fixings were removed and it were subjected to a 100g acceleration in any direction. \\n4.5 Adding during the race or sprint session \\nWith the exception of compressed gases, no substance may be added to the car during the \\nrace or sprint session. If it becomes necessary to replace any part of the car during the race or \\nsprint session, the mass of the new part must not be more than that of the original part.'),\n",
       "  0.7280746020693835),\n",
       " (Document(id='c936d5f7-5ae5-4881-a396-7ca091b97fc1', metadata={'producer': 'Microsoft® Word for Microsoft 365', 'creator': 'Microsoft® Word for Microsoft 365', 'creationdate': '2024-12-12T14:44:49+01:00', 'moddate': '2024-12-12T14:44:49+01:00', 'source': 'f1report.pdf', 'total_pages': 178, 'page': 45, 'page_label': '46', 'start_index': 0}, page_content='2025 Formula 1 Technical Regulations 46  11 December 2024 \\n© 2024 Fédération Internationale de l’Automobile  Issue 1 \\n \\nARTICLE 4: MASS \\n4.1 Minimum mass \\nThe mass of the car, without fuel, must not be less than 798kg 800kg plus the Heat Hazard \\nMass Increase (defined in Article 4.7), at all any times during the Competition. \\nIf, when required for checking, a car is not already fitted with dry-weather tyres, its mass will \\nbe determined using a set of dry-weather tyres selected by the FIA technical delegate. \\n4.2 Mass distribution \\nWith the car resting on a horizontal plane the mass measured at the front and rear axles must \\nnot be less than the mass specified in Article 4.1 factored by 0.446 and 0.539 respectively at \\nall times during the Sprint Qualifying practice and Qualifying sessions. Rounding will be to \\nnearest 0.5kg. \\nIf, when required for checking, a car is not already fitted with dry-weather tyres, its mass will'),\n",
       "  0.7279063643202831),\n",
       " (Document(id='7e10e279-7579-4895-b269-6d1f14752d72', metadata={'producer': 'Microsoft® Word for Microsoft 365', 'creator': 'Microsoft® Word for Microsoft 365', 'creationdate': '2024-12-12T14:44:49+01:00', 'moddate': '2024-12-12T14:44:49+01:00', 'source': 'f1report.pdf', 'total_pages': 178, 'page': 7, 'page_label': '8', 'start_index': 0}, page_content='2025 Formula 1 Technical Regulations 8  11 December 2024 \\n© 2024 Fédération Internationale de l’Automobile  Issue 1 \\n \\nARTICLE 2: DEFINITIONS \\n2.1 Formula One Car \\nAn automobile (the car) designed solely for speed races on circuits or closed courses that is \\npropelled by its own means, moving by constantly taking real support on the ground, of \\nwhich the propulsion and steering are under the direct control of a driver aboard the vehicle. \\nIt runs on four non-aligned complete wheels, with wheel centres that are arranged \\nsymmetrically about the car centre plane, when in the straight-ahead position, to form the \\nfront and rear axles. \\n2.2 Competition \\nAs defined in Article 2.2 of the Sporting Regulations \\n2.3 Component classification categories \\nThe terms LTC, SSC, TRC and OSC defined in Articles 17.3 to 17.6 and used throughout the \\nRegulations, refer to the classification of the car’s components in terms of their Design, \\nIntellectual Property, Manufacture and Supply. \\n2.4 Car mass'),\n",
       "  0.7234397743542089),\n",
       " (Document(id='f1bc0851-3afe-47b8-9964-4de2ead15a19', metadata={'producer': 'Microsoft® Word for Microsoft 365', 'creator': 'Microsoft® Word for Microsoft 365', 'creationdate': '2024-12-12T14:44:49+01:00', 'moddate': '2024-12-12T14:44:49+01:00', 'source': 'f1report.pdf', 'total_pages': 178, 'page': 0, 'page_label': '1', 'start_index': 0}, page_content='2025 Formula 1 Technical Regulations 1  11 December 2024 \\n© 2024 Fédération Internationale de l’Automobile  Issue 1 \\n \\n2025 FORMULA 1 TECHNICAL REGULATIONS \\n \\nPUBLISHED ON 11 DECEMBER 2024 \\nIssue 1 \\nConvention: \\nBlack text: Regulations unchanged from 2024 F1 Technical Regulations Issue 8, approved by the \\nWMSC on 17/10/24. \\nPink text: Changes approved by WMSC on 11/12/24. \\nDark Red Text: Changes previously approved by WMSC and transferred from Appendix 6 of the \\n2024 Technical Regulations Issue 8. \\nGreen Text: Comments / explanations / indication of further work: non-binding and non-regulatory \\n \\nCONTENTS: \\nPage \\nARTICLE 1: GENERAL PRINCIPLES 6 \\n1.1 Formula One World Championship \\n1.2 Regulatory Framework \\n1.3 Dangerous construction \\n1.4 Compliance with the regulations \\n1.5 New systems or technologies \\n1.6 Duty of Competitor \\nARTICLE 2: DEFINITIONS 8 \\n2.1 Formula One Car \\n2.2 Competition \\n2.3 Component classification categories \\n2.4 Car mass \\n2.5 Sprung mass \\n2.6 Unsprung mass'),\n",
       "  0.7136935766317963),\n",
       " (Document(id='e537a928-ee5d-4ab6-a294-9992566873f9', metadata={'producer': 'Microsoft® Word for Microsoft 365', 'creator': 'Microsoft® Word for Microsoft 365', 'creationdate': '2024-12-12T14:44:49+01:00', 'moddate': '2024-12-12T14:44:49+01:00', 'source': 'f1report.pdf', 'total_pages': 178, 'page': 112, 'page_label': '113', 'start_index': 3166}, page_content='i. Bodywork \\nii. Components of the oil and coolant systems and charge air cooling (excluding any \\nsecondary heat exchangers) \\niii. Electrical systems (excluding electrical pumps and filters) \\niv. Pneumatic pressure vessels (excluding regulators operating at over 5 barG inlet \\npressure) \\nv. Brake system, hydraulic system and pneumatic system hoses'),\n",
       "  0.7101886390256027),\n",
       " (Document(id='1eed7379-88f9-4f2a-8ff8-e0434834905b', metadata={'producer': 'Microsoft® Word for Microsoft 365', 'creator': 'Microsoft® Word for Microsoft 365', 'creationdate': '2024-12-12T14:44:49+01:00', 'moddate': '2024-12-12T14:44:49+01:00', 'source': 'f1report.pdf', 'total_pages': 178, 'page': 45, 'page_label': '46', 'start_index': 823}, page_content='nearest 0.5kg. \\nIf, when required for checking, a car is not already fitted with dry-weather tyres, its mass will \\nbe determined using a set of dry-weather tyres selected by the FIA technical delegate. \\nIf, when required for checking, a Heat Hazard has been declared, the increase in mass will not \\nbe considered. \\n4.3 Mass of tyres \\nThe mass limit specified in Article 4.1 and the factors specified in Article 4.2 will be adjusted \\nup or down according to any differences (rounded to the nearest 1kg for Article 4.1) between \\nthe total set and individual axle set mass respectively of the dry-weather tyres used in the \\nChampionship taking place in the calendar year referred to in the title and the preceding \\nyear’s Championship. \\n4.4 Ballast \\nBallast can be used provided it is secured in such a way that tools are required for its removal \\nand that it remains immobile with respect to the sprung mass in its entirety. It must be'),\n",
       "  0.7037028638202604),\n",
       " (Document(id='23673e05-b675-4ea3-a95a-804108d09a0a', metadata={'producer': 'Microsoft® Word for Microsoft 365', 'creator': 'Microsoft® Word for Microsoft 365', 'creationdate': '2024-12-12T14:44:49+01:00', 'moddate': '2024-12-12T14:44:49+01:00', 'source': 'f1report.pdf', 'total_pages': 178, 'page': 0, 'page_label': '1', 'start_index': 814}, page_content='1.6 Duty of Competitor \\nARTICLE 2: DEFINITIONS 8 \\n2.1 Formula One Car \\n2.2 Competition \\n2.3 Component classification categories \\n2.4 Car mass \\n2.5 Sprung mass \\n2.6 Unsprung mass \\n2.7 Power unit \\n2.8 Power train \\n2.9 Geometrical planes \\n2.10 Reference Volumes and Surfaces \\n2.11 Coordinate system and references \\n2.12 Precision of Numerical Values \\nARTICLE 3: AERODYNAMIC COMPONENTS 11 \\n3.1 Definitions \\n3.2 General Principles and Legality Checking \\n3.3 Component Definition \\n3.4 Overall Dimensions \\n3.5 Floor \\n3.6 Front Bodywork'),\n",
       "  0.703090196565647)]"
      ]
     },
     "execution_count": 20,
     "metadata": {},
     "output_type": "execute_result"
    }
   ],
   "execution_count": 20
  },
  {
   "cell_type": "markdown",
   "id": "aef0ce6d",
   "metadata": {},
   "source": [
    "### What is RAG?\n",
    "Retrieve using semantic search and dump the similar chunks in the context of the prompt.\n",
    "LLM sees the question and retrieved docs in its prompt and generates tokens accordingly."
   ]
  },
  {
   "cell_type": "code",
   "id": "92552a3a",
   "metadata": {
    "ExecuteTime": {
     "end_time": "2025-09-11T08:55:30.477868Z",
     "start_time": "2025-09-11T08:55:30.473847Z"
    }
   },
   "source": [
    "prompt_template = \"\"\"You are an assistant for question-answering tasks. Use the following pieces of retrieved context to answer the question. If you don't know the answer, just say that you don't know. Use three sentences maximum and keep the answer concise.\n",
    "Question: {question} \n",
    "Context: {context} \n",
    "Answer:\"\"\""
   ],
   "outputs": [],
   "execution_count": 14
  },
  {
   "cell_type": "code",
   "id": "f4152d01",
   "metadata": {
    "ExecuteTime": {
     "end_time": "2025-09-11T08:55:32.395946Z",
     "start_time": "2025-09-11T08:55:32.357086Z"
    }
   },
   "source": [
    "doc_content = \"\\n\\n\".join(doc.page_content+\"\\n\"+\"=\"*50+\"\\n\" for (doc,score) in search_results)\n",
    "print(doc_content)"
   ],
   "outputs": [
    {
     "ename": "NameError",
     "evalue": "name 'search_results' is not defined",
     "output_type": "error",
     "traceback": [
      "\u001B[31m---------------------------------------------------------------------------\u001B[39m",
      "\u001B[31mNameError\u001B[39m                                 Traceback (most recent call last)",
      "\u001B[36mCell\u001B[39m\u001B[36m \u001B[39m\u001B[32mIn[15]\u001B[39m\u001B[32m, line 1\u001B[39m\n\u001B[32m----> \u001B[39m\u001B[32m1\u001B[39m doc_content = \u001B[33m\"\u001B[39m\u001B[38;5;130;01m\\n\u001B[39;00m\u001B[38;5;130;01m\\n\u001B[39;00m\u001B[33m\"\u001B[39m.join(doc.page_content+\u001B[33m\"\u001B[39m\u001B[38;5;130;01m\\n\u001B[39;00m\u001B[33m\"\u001B[39m+\u001B[33m\"\u001B[39m\u001B[33m=\u001B[39m\u001B[33m\"\u001B[39m*\u001B[32m50\u001B[39m+\u001B[33m\"\u001B[39m\u001B[38;5;130;01m\\n\u001B[39;00m\u001B[33m\"\u001B[39m \u001B[38;5;28;01mfor\u001B[39;00m (doc,score) \u001B[38;5;129;01min\u001B[39;00m \u001B[43msearch_results\u001B[49m)\n\u001B[32m      2\u001B[39m \u001B[38;5;28mprint\u001B[39m(doc_content)\n",
      "\u001B[31mNameError\u001B[39m: name 'search_results' is not defined"
     ]
    }
   ],
   "execution_count": 15
  },
  {
   "cell_type": "code",
   "id": "395b1451",
   "metadata": {
    "ExecuteTime": {
     "end_time": "2025-09-11T09:50:52.926941Z",
     "start_time": "2025-09-11T09:50:40.721608Z"
    }
   },
   "source": [
    "# make the LLM read see the prompt, and analyse the retrieved document, and generate response\n",
    "\n",
    "from langchain_google_genai import GoogleGenerativeAIEmbeddings\n",
    "\n",
    "embeddings = GoogleGenerativeAIEmbeddings(model=\"models/gemini-embedding-001\")\n",
    "\n",
    "# Create a vector store\n",
    "# (CLASSROOM DISCUSSION: What are vector stores? What do we make them?)\n",
    "from langchain_core.vectorstores import InMemoryVectorStore\n",
    "vector_store = InMemoryVectorStore(embeddings)\n",
    "\n",
    "# Adding documents to vector store\n",
    "document_ids = vector_store.add_documents(documents=all_splits)\n",
    "\n",
    "\n",
    "\n",
    "from langchain.chat_models import init_chat_model\n",
    "model = init_chat_model(\"llama-3.3-70b-versatile\", model_provider=\"groq\")\n",
    "\n",
    "prompt_template = \"\"\"You are an assistant for question-answering tasks. Use the following pieces of retrieved context to answer the question. If you don't know the answer, just say that you don't know. Use three sentences maximum and keep the answer concise.\n",
    "Question: {question} \n",
    "Context: {context} \n",
    "Answer:\"\"\"\n",
    "\n",
    "response = model.invoke(prompt_template.format(\n",
    "    context=doc_content,\n",
    "    question=\"What is car mass?\"))"
   ],
   "outputs": [
    {
     "ename": "GoogleGenerativeAIError",
     "evalue": "Error embedding content: 429 You exceeded your current quota, please check your plan and billing details. For more information on this error, head to: https://ai.google.dev/gemini-api/docs/rate-limits. [violations {\n  quota_metric: \"generativelanguage.googleapis.com/embed_content_free_tier_requests\"\n  quota_id: \"EmbedContentRequestsPerMinutePerUserPerProjectPerModel-FreeTier\"\n}\n, links {\n  description: \"Learn more about Gemini API quotas\"\n  url: \"https://ai.google.dev/gemini-api/docs/rate-limits\"\n}\n]",
     "output_type": "error",
     "traceback": [
      "\u001B[31m---------------------------------------------------------------------------\u001B[39m",
      "\u001B[31mResourceExhausted\u001B[39m                         Traceback (most recent call last)",
      "\u001B[36mFile \u001B[39m\u001B[32m~\\AppData\\Local\\Programs\\Python\\Python312\\Lib\\site-packages\\langchain_google_genai\\embeddings.py:243\u001B[39m, in \u001B[36mGoogleGenerativeAIEmbeddings.embed_documents\u001B[39m\u001B[34m(self, texts, batch_size, task_type, titles, output_dimensionality)\u001B[39m\n\u001B[32m    242\u001B[39m \u001B[38;5;28;01mtry\u001B[39;00m:\n\u001B[32m--> \u001B[39m\u001B[32m243\u001B[39m     result = \u001B[38;5;28;43mself\u001B[39;49m\u001B[43m.\u001B[49m\u001B[43mclient\u001B[49m\u001B[43m.\u001B[49m\u001B[43mbatch_embed_contents\u001B[49m\u001B[43m(\u001B[49m\n\u001B[32m    244\u001B[39m \u001B[43m        \u001B[49m\u001B[43mBatchEmbedContentsRequest\u001B[49m\u001B[43m(\u001B[49m\u001B[43mrequests\u001B[49m\u001B[43m=\u001B[49m\u001B[43mrequests\u001B[49m\u001B[43m,\u001B[49m\u001B[43m \u001B[49m\u001B[43mmodel\u001B[49m\u001B[43m=\u001B[49m\u001B[38;5;28;43mself\u001B[39;49m\u001B[43m.\u001B[49m\u001B[43mmodel\u001B[49m\u001B[43m)\u001B[49m\n\u001B[32m    245\u001B[39m \u001B[43m    \u001B[49m\u001B[43m)\u001B[49m\n\u001B[32m    246\u001B[39m \u001B[38;5;28;01mexcept\u001B[39;00m \u001B[38;5;167;01mException\u001B[39;00m \u001B[38;5;28;01mas\u001B[39;00m e:\n",
      "\u001B[36mFile \u001B[39m\u001B[32m~\\AppData\\Local\\Programs\\Python\\Python312\\Lib\\site-packages\\google\\ai\\generativelanguage_v1beta\\services\\generative_service\\client.py:1437\u001B[39m, in \u001B[36mGenerativeServiceClient.batch_embed_contents\u001B[39m\u001B[34m(self, request, model, requests, retry, timeout, metadata)\u001B[39m\n\u001B[32m   1436\u001B[39m \u001B[38;5;66;03m# Send the request.\u001B[39;00m\n\u001B[32m-> \u001B[39m\u001B[32m1437\u001B[39m response = \u001B[43mrpc\u001B[49m\u001B[43m(\u001B[49m\n\u001B[32m   1438\u001B[39m \u001B[43m    \u001B[49m\u001B[43mrequest\u001B[49m\u001B[43m,\u001B[49m\n\u001B[32m   1439\u001B[39m \u001B[43m    \u001B[49m\u001B[43mretry\u001B[49m\u001B[43m=\u001B[49m\u001B[43mretry\u001B[49m\u001B[43m,\u001B[49m\n\u001B[32m   1440\u001B[39m \u001B[43m    \u001B[49m\u001B[43mtimeout\u001B[49m\u001B[43m=\u001B[49m\u001B[43mtimeout\u001B[49m\u001B[43m,\u001B[49m\n\u001B[32m   1441\u001B[39m \u001B[43m    \u001B[49m\u001B[43mmetadata\u001B[49m\u001B[43m=\u001B[49m\u001B[43mmetadata\u001B[49m\u001B[43m,\u001B[49m\n\u001B[32m   1442\u001B[39m \u001B[43m\u001B[49m\u001B[43m)\u001B[49m\n\u001B[32m   1444\u001B[39m \u001B[38;5;66;03m# Done; return the response.\u001B[39;00m\n",
      "\u001B[36mFile \u001B[39m\u001B[32m~\\AppData\\Local\\Programs\\Python\\Python312\\Lib\\site-packages\\google\\api_core\\gapic_v1\\method.py:131\u001B[39m, in \u001B[36m_GapicCallable.__call__\u001B[39m\u001B[34m(self, timeout, retry, compression, *args, **kwargs)\u001B[39m\n\u001B[32m    129\u001B[39m     kwargs[\u001B[33m\"\u001B[39m\u001B[33mcompression\u001B[39m\u001B[33m\"\u001B[39m] = compression\n\u001B[32m--> \u001B[39m\u001B[32m131\u001B[39m \u001B[38;5;28;01mreturn\u001B[39;00m \u001B[43mwrapped_func\u001B[49m\u001B[43m(\u001B[49m\u001B[43m*\u001B[49m\u001B[43margs\u001B[49m\u001B[43m,\u001B[49m\u001B[43m \u001B[49m\u001B[43m*\u001B[49m\u001B[43m*\u001B[49m\u001B[43mkwargs\u001B[49m\u001B[43m)\u001B[49m\n",
      "\u001B[36mFile \u001B[39m\u001B[32m~\\AppData\\Local\\Programs\\Python\\Python312\\Lib\\site-packages\\google\\api_core\\retry\\retry_unary.py:294\u001B[39m, in \u001B[36mRetry.__call__.<locals>.retry_wrapped_func\u001B[39m\u001B[34m(*args, **kwargs)\u001B[39m\n\u001B[32m    291\u001B[39m sleep_generator = exponential_sleep_generator(\n\u001B[32m    292\u001B[39m     \u001B[38;5;28mself\u001B[39m._initial, \u001B[38;5;28mself\u001B[39m._maximum, multiplier=\u001B[38;5;28mself\u001B[39m._multiplier\n\u001B[32m    293\u001B[39m )\n\u001B[32m--> \u001B[39m\u001B[32m294\u001B[39m \u001B[38;5;28;01mreturn\u001B[39;00m \u001B[43mretry_target\u001B[49m\u001B[43m(\u001B[49m\n\u001B[32m    295\u001B[39m \u001B[43m    \u001B[49m\u001B[43mtarget\u001B[49m\u001B[43m,\u001B[49m\n\u001B[32m    296\u001B[39m \u001B[43m    \u001B[49m\u001B[38;5;28;43mself\u001B[39;49m\u001B[43m.\u001B[49m\u001B[43m_predicate\u001B[49m\u001B[43m,\u001B[49m\n\u001B[32m    297\u001B[39m \u001B[43m    \u001B[49m\u001B[43msleep_generator\u001B[49m\u001B[43m,\u001B[49m\n\u001B[32m    298\u001B[39m \u001B[43m    \u001B[49m\u001B[43mtimeout\u001B[49m\u001B[43m=\u001B[49m\u001B[38;5;28;43mself\u001B[39;49m\u001B[43m.\u001B[49m\u001B[43m_timeout\u001B[49m\u001B[43m,\u001B[49m\n\u001B[32m    299\u001B[39m \u001B[43m    \u001B[49m\u001B[43mon_error\u001B[49m\u001B[43m=\u001B[49m\u001B[43mon_error\u001B[49m\u001B[43m,\u001B[49m\n\u001B[32m    300\u001B[39m \u001B[43m\u001B[49m\u001B[43m)\u001B[49m\n",
      "\u001B[36mFile \u001B[39m\u001B[32m~\\AppData\\Local\\Programs\\Python\\Python312\\Lib\\site-packages\\google\\api_core\\retry\\retry_unary.py:156\u001B[39m, in \u001B[36mretry_target\u001B[39m\u001B[34m(target, predicate, sleep_generator, timeout, on_error, exception_factory, **kwargs)\u001B[39m\n\u001B[32m    154\u001B[39m \u001B[38;5;28;01mexcept\u001B[39;00m \u001B[38;5;167;01mException\u001B[39;00m \u001B[38;5;28;01mas\u001B[39;00m exc:\n\u001B[32m    155\u001B[39m     \u001B[38;5;66;03m# defer to shared logic for handling errors\u001B[39;00m\n\u001B[32m--> \u001B[39m\u001B[32m156\u001B[39m     next_sleep = \u001B[43m_retry_error_helper\u001B[49m\u001B[43m(\u001B[49m\n\u001B[32m    157\u001B[39m \u001B[43m        \u001B[49m\u001B[43mexc\u001B[49m\u001B[43m,\u001B[49m\n\u001B[32m    158\u001B[39m \u001B[43m        \u001B[49m\u001B[43mdeadline\u001B[49m\u001B[43m,\u001B[49m\n\u001B[32m    159\u001B[39m \u001B[43m        \u001B[49m\u001B[43msleep_iter\u001B[49m\u001B[43m,\u001B[49m\n\u001B[32m    160\u001B[39m \u001B[43m        \u001B[49m\u001B[43merror_list\u001B[49m\u001B[43m,\u001B[49m\n\u001B[32m    161\u001B[39m \u001B[43m        \u001B[49m\u001B[43mpredicate\u001B[49m\u001B[43m,\u001B[49m\n\u001B[32m    162\u001B[39m \u001B[43m        \u001B[49m\u001B[43mon_error\u001B[49m\u001B[43m,\u001B[49m\n\u001B[32m    163\u001B[39m \u001B[43m        \u001B[49m\u001B[43mexception_factory\u001B[49m\u001B[43m,\u001B[49m\n\u001B[32m    164\u001B[39m \u001B[43m        \u001B[49m\u001B[43mtimeout\u001B[49m\u001B[43m,\u001B[49m\n\u001B[32m    165\u001B[39m \u001B[43m    \u001B[49m\u001B[43m)\u001B[49m\n\u001B[32m    166\u001B[39m     \u001B[38;5;66;03m# if exception not raised, sleep before next attempt\u001B[39;00m\n",
      "\u001B[36mFile \u001B[39m\u001B[32m~\\AppData\\Local\\Programs\\Python\\Python312\\Lib\\site-packages\\google\\api_core\\retry\\retry_base.py:214\u001B[39m, in \u001B[36m_retry_error_helper\u001B[39m\u001B[34m(exc, deadline, sleep_iterator, error_list, predicate_fn, on_error_fn, exc_factory_fn, original_timeout)\u001B[39m\n\u001B[32m    209\u001B[39m     final_exc, source_exc = exc_factory_fn(\n\u001B[32m    210\u001B[39m         error_list,\n\u001B[32m    211\u001B[39m         RetryFailureReason.NON_RETRYABLE_ERROR,\n\u001B[32m    212\u001B[39m         original_timeout,\n\u001B[32m    213\u001B[39m     )\n\u001B[32m--> \u001B[39m\u001B[32m214\u001B[39m     \u001B[38;5;28;01mraise\u001B[39;00m final_exc \u001B[38;5;28;01mfrom\u001B[39;00m\u001B[38;5;250m \u001B[39m\u001B[34;01msource_exc\u001B[39;00m\n\u001B[32m    215\u001B[39m \u001B[38;5;28;01mif\u001B[39;00m on_error_fn \u001B[38;5;129;01mis\u001B[39;00m \u001B[38;5;129;01mnot\u001B[39;00m \u001B[38;5;28;01mNone\u001B[39;00m:\n",
      "\u001B[36mFile \u001B[39m\u001B[32m~\\AppData\\Local\\Programs\\Python\\Python312\\Lib\\site-packages\\google\\api_core\\retry\\retry_unary.py:147\u001B[39m, in \u001B[36mretry_target\u001B[39m\u001B[34m(target, predicate, sleep_generator, timeout, on_error, exception_factory, **kwargs)\u001B[39m\n\u001B[32m    146\u001B[39m \u001B[38;5;28;01mtry\u001B[39;00m:\n\u001B[32m--> \u001B[39m\u001B[32m147\u001B[39m     result = \u001B[43mtarget\u001B[49m\u001B[43m(\u001B[49m\u001B[43m)\u001B[49m\n\u001B[32m    148\u001B[39m     \u001B[38;5;28;01mif\u001B[39;00m inspect.isawaitable(result):\n",
      "\u001B[36mFile \u001B[39m\u001B[32m~\\AppData\\Local\\Programs\\Python\\Python312\\Lib\\site-packages\\google\\api_core\\timeout.py:130\u001B[39m, in \u001B[36mTimeToDeadlineTimeout.__call__.<locals>.func_with_timeout\u001B[39m\u001B[34m(*args, **kwargs)\u001B[39m\n\u001B[32m    128\u001B[39m     kwargs[\u001B[33m\"\u001B[39m\u001B[33mtimeout\u001B[39m\u001B[33m\"\u001B[39m] = remaining_timeout\n\u001B[32m--> \u001B[39m\u001B[32m130\u001B[39m \u001B[38;5;28;01mreturn\u001B[39;00m \u001B[43mfunc\u001B[49m\u001B[43m(\u001B[49m\u001B[43m*\u001B[49m\u001B[43margs\u001B[49m\u001B[43m,\u001B[49m\u001B[43m \u001B[49m\u001B[43m*\u001B[49m\u001B[43m*\u001B[49m\u001B[43mkwargs\u001B[49m\u001B[43m)\u001B[49m\n",
      "\u001B[36mFile \u001B[39m\u001B[32m~\\AppData\\Local\\Programs\\Python\\Python312\\Lib\\site-packages\\google\\api_core\\grpc_helpers.py:78\u001B[39m, in \u001B[36m_wrap_unary_errors.<locals>.error_remapped_callable\u001B[39m\u001B[34m(*args, **kwargs)\u001B[39m\n\u001B[32m     77\u001B[39m \u001B[38;5;28;01mexcept\u001B[39;00m grpc.RpcError \u001B[38;5;28;01mas\u001B[39;00m exc:\n\u001B[32m---> \u001B[39m\u001B[32m78\u001B[39m     \u001B[38;5;28;01mraise\u001B[39;00m exceptions.from_grpc_error(exc) \u001B[38;5;28;01mfrom\u001B[39;00m\u001B[38;5;250m \u001B[39m\u001B[34;01mexc\u001B[39;00m\n",
      "\u001B[31mResourceExhausted\u001B[39m: 429 You exceeded your current quota, please check your plan and billing details. For more information on this error, head to: https://ai.google.dev/gemini-api/docs/rate-limits. [violations {\n  quota_metric: \"generativelanguage.googleapis.com/embed_content_free_tier_requests\"\n  quota_id: \"EmbedContentRequestsPerMinutePerUserPerProjectPerModel-FreeTier\"\n}\n, links {\n  description: \"Learn more about Gemini API quotas\"\n  url: \"https://ai.google.dev/gemini-api/docs/rate-limits\"\n}\n]",
      "\nThe above exception was the direct cause of the following exception:\n",
      "\u001B[31mGoogleGenerativeAIError\u001B[39m                   Traceback (most recent call last)",
      "\u001B[36mCell\u001B[39m\u001B[36m \u001B[39m\u001B[32mIn[17]\u001B[39m\u001B[32m, line 13\u001B[39m\n\u001B[32m     10\u001B[39m vector_store = InMemoryVectorStore(embeddings)\n\u001B[32m     12\u001B[39m \u001B[38;5;66;03m# Adding documents to vector store\u001B[39;00m\n\u001B[32m---> \u001B[39m\u001B[32m13\u001B[39m document_ids = \u001B[43mvector_store\u001B[49m\u001B[43m.\u001B[49m\u001B[43madd_documents\u001B[49m\u001B[43m(\u001B[49m\u001B[43mdocuments\u001B[49m\u001B[43m=\u001B[49m\u001B[43mall_splits\u001B[49m\u001B[43m)\u001B[49m\n\u001B[32m     17\u001B[39m \u001B[38;5;28;01mfrom\u001B[39;00m\u001B[38;5;250m \u001B[39m\u001B[34;01mlangchain\u001B[39;00m\u001B[34;01m.\u001B[39;00m\u001B[34;01mchat_models\u001B[39;00m\u001B[38;5;250m \u001B[39m\u001B[38;5;28;01mimport\u001B[39;00m init_chat_model\n\u001B[32m     18\u001B[39m model = init_chat_model(\u001B[33m\"\u001B[39m\u001B[33mllama-3.3-70b-versatile\u001B[39m\u001B[33m\"\u001B[39m, model_provider=\u001B[33m\"\u001B[39m\u001B[33mgroq\u001B[39m\u001B[33m\"\u001B[39m)\n",
      "\u001B[36mFile \u001B[39m\u001B[32m~\\AppData\\Local\\Programs\\Python\\Python312\\Lib\\site-packages\\langchain_core\\vectorstores\\in_memory.py:195\u001B[39m, in \u001B[36mInMemoryVectorStore.add_documents\u001B[39m\u001B[34m(self, documents, ids, **kwargs)\u001B[39m\n\u001B[32m    193\u001B[39m \u001B[38;5;250m\u001B[39m\u001B[33;03m\"\"\"Add documents to the store.\"\"\"\u001B[39;00m\n\u001B[32m    194\u001B[39m texts = [doc.page_content \u001B[38;5;28;01mfor\u001B[39;00m doc \u001B[38;5;129;01min\u001B[39;00m documents]\n\u001B[32m--> \u001B[39m\u001B[32m195\u001B[39m vectors = \u001B[38;5;28;43mself\u001B[39;49m\u001B[43m.\u001B[49m\u001B[43membedding\u001B[49m\u001B[43m.\u001B[49m\u001B[43membed_documents\u001B[49m\u001B[43m(\u001B[49m\u001B[43mtexts\u001B[49m\u001B[43m)\u001B[49m\n\u001B[32m    197\u001B[39m \u001B[38;5;28;01mif\u001B[39;00m ids \u001B[38;5;129;01mand\u001B[39;00m \u001B[38;5;28mlen\u001B[39m(ids) != \u001B[38;5;28mlen\u001B[39m(texts):\n\u001B[32m    198\u001B[39m     msg = (\n\u001B[32m    199\u001B[39m         \u001B[33mf\u001B[39m\u001B[33m\"\u001B[39m\u001B[33mids must be the same length as texts. \u001B[39m\u001B[33m\"\u001B[39m\n\u001B[32m    200\u001B[39m         \u001B[33mf\u001B[39m\u001B[33m\"\u001B[39m\u001B[33mGot \u001B[39m\u001B[38;5;132;01m{\u001B[39;00m\u001B[38;5;28mlen\u001B[39m(ids)\u001B[38;5;132;01m}\u001B[39;00m\u001B[33m ids and \u001B[39m\u001B[38;5;132;01m{\u001B[39;00m\u001B[38;5;28mlen\u001B[39m(texts)\u001B[38;5;132;01m}\u001B[39;00m\u001B[33m texts.\u001B[39m\u001B[33m\"\u001B[39m\n\u001B[32m    201\u001B[39m     )\n",
      "\u001B[36mFile \u001B[39m\u001B[32m~\\AppData\\Local\\Programs\\Python\\Python312\\Lib\\site-packages\\langchain_google_genai\\embeddings.py:247\u001B[39m, in \u001B[36mGoogleGenerativeAIEmbeddings.embed_documents\u001B[39m\u001B[34m(self, texts, batch_size, task_type, titles, output_dimensionality)\u001B[39m\n\u001B[32m    243\u001B[39m         result = \u001B[38;5;28mself\u001B[39m.client.batch_embed_contents(\n\u001B[32m    244\u001B[39m             BatchEmbedContentsRequest(requests=requests, model=\u001B[38;5;28mself\u001B[39m.model)\n\u001B[32m    245\u001B[39m         )\n\u001B[32m    246\u001B[39m     \u001B[38;5;28;01mexcept\u001B[39;00m \u001B[38;5;167;01mException\u001B[39;00m \u001B[38;5;28;01mas\u001B[39;00m e:\n\u001B[32m--> \u001B[39m\u001B[32m247\u001B[39m         \u001B[38;5;28;01mraise\u001B[39;00m GoogleGenerativeAIError(\u001B[33mf\u001B[39m\u001B[33m\"\u001B[39m\u001B[33mError embedding content: \u001B[39m\u001B[38;5;132;01m{\u001B[39;00me\u001B[38;5;132;01m}\u001B[39;00m\u001B[33m\"\u001B[39m) \u001B[38;5;28;01mfrom\u001B[39;00m\u001B[38;5;250m \u001B[39m\u001B[34;01me\u001B[39;00m\n\u001B[32m    248\u001B[39m     embeddings.extend([\u001B[38;5;28mlist\u001B[39m(e.values) \u001B[38;5;28;01mfor\u001B[39;00m e \u001B[38;5;129;01min\u001B[39;00m result.embeddings])\n\u001B[32m    249\u001B[39m \u001B[38;5;28;01mreturn\u001B[39;00m embeddings\n",
      "\u001B[31mGoogleGenerativeAIError\u001B[39m: Error embedding content: 429 You exceeded your current quota, please check your plan and billing details. For more information on this error, head to: https://ai.google.dev/gemini-api/docs/rate-limits. [violations {\n  quota_metric: \"generativelanguage.googleapis.com/embed_content_free_tier_requests\"\n  quota_id: \"EmbedContentRequestsPerMinutePerUserPerProjectPerModel-FreeTier\"\n}\n, links {\n  description: \"Learn more about Gemini API quotas\"\n  url: \"https://ai.google.dev/gemini-api/docs/rate-limits\"\n}\n]"
     ]
    }
   ],
   "execution_count": 17
  },
  {
   "cell_type": "code",
   "id": "9d7fdba7",
   "metadata": {
    "ExecuteTime": {
     "end_time": "2025-09-07T12:04:01.496087Z",
     "start_time": "2025-09-07T12:04:01.492122Z"
    }
   },
   "source": [
    "# Better printing\n",
    "\n",
    "from IPython.display import Markdown\n",
    "Markdown(response.content)"
   ],
   "outputs": [
    {
     "data": {
      "text/plain": [
       "<IPython.core.display.Markdown object>"
      ],
      "text/markdown": "The mass of the car is calculated by measuring its weight without fuel, and it must not be less than 798kg plus the Heat Hazard Mass Increase. If the car is not fitted with dry-weather tyres, its mass will be determined using a set of dry-weather tyres selected by the FIA technical delegate. The mass is measured with the car resting on a horizontal plane, and the mass at the front and rear axles must meet specific requirements."
     },
     "execution_count": 19,
     "metadata": {},
     "output_type": "execute_result"
    }
   ],
   "execution_count": 19
  },
  {
   "cell_type": "markdown",
   "id": "7a5ceb2c",
   "metadata": {},
   "source": [
    "# RAG Summary"
   ]
  },
  {
   "cell_type": "code",
   "id": "93cd5add",
   "metadata": {
    "ExecuteTime": {
     "end_time": "2025-09-07T12:04:57.201355Z",
     "start_time": "2025-09-07T12:04:12.602259Z"
    }
   },
   "source": [
    "# RAG summary\n",
    "\n",
    "# Read a doc\n",
    "from langchain_community.document_loaders import PyPDFLoader\n",
    "loader = PyPDFLoader(\"f1report.pdf\")\n",
    "docs = loader.load()\n",
    "\n",
    "# Split document into small chunks\n",
    "from langchain_text_splitters import RecursiveCharacterTextSplitter\n",
    "\n",
    "text_splitter = RecursiveCharacterTextSplitter(\n",
    "    chunk_size=1000,  # chunk size (characters)\n",
    "    chunk_overlap=200,  # chunk overlap (characters)\n",
    "    add_start_index=True,  # track index in original document\n",
    ")\n",
    "all_splits = text_splitter.split_documents(docs)\n",
    "\n",
    "print(f\"Split given book into {len(all_splits)} sub-documents.\")\n",
    "\n",
    "# embedding\n",
    "from langchain_google_genai import GoogleGenerativeAIEmbeddings\n",
    "\n",
    "embeddings = GoogleGenerativeAIEmbeddings(model=\"models/embedding-001\")\n",
    "\n",
    "# Create a vector store\n",
    "from langchain_core.vectorstores import InMemoryVectorStore\n",
    "vector_store = InMemoryVectorStore(embeddings)\n",
    "\n",
    "# Adding documents to vector store\n",
    "document_ids = vector_store.add_documents(documents=all_splits)\n"
   ],
   "outputs": [
    {
     "name": "stdout",
     "output_type": "stream",
     "text": [
      "Split given book into 676 sub-documents.\n"
     ]
    }
   ],
   "execution_count": 20
  },
  {
   "cell_type": "code",
   "id": "b55042e4",
   "metadata": {
    "ExecuteTime": {
     "end_time": "2025-09-07T12:05:35.391583Z",
     "start_time": "2025-09-07T12:05:34.600397Z"
    }
   },
   "source": [
    "# extract chunks which matches with your query\n",
    "\n",
    "search_results = vector_store.similarity_search_with_score(\n",
    "    \"What is car mass?\",\n",
    "    k = 10\n",
    ")\n",
    "\n",
    "doc_content = \"\\n\\n\".join(doc.page_content+\"\\n\"+\"=\"*50+\"\\n\" for (doc,score) in search_results)\n",
    "print(doc_content)"
   ],
   "outputs": [
    {
     "name": "stdout",
     "output_type": "stream",
     "text": [
      "1.6 Duty of Competitor \n",
      "ARTICLE 2: DEFINITIONS 8 \n",
      "2.1 Formula One Car \n",
      "2.2 Competition \n",
      "2.3 Component classification categories \n",
      "2.4 Car mass \n",
      "2.5 Sprung mass \n",
      "2.6 Unsprung mass \n",
      "2.7 Power unit \n",
      "2.8 Power train \n",
      "2.9 Geometrical planes \n",
      "2.10 Reference Volumes and Surfaces \n",
      "2.11 Coordinate system and references \n",
      "2.12 Precision of Numerical Values \n",
      "ARTICLE 3: AERODYNAMIC COMPONENTS 11 \n",
      "3.1 Definitions \n",
      "3.2 General Principles and Legality Checking \n",
      "3.3 Component Definition \n",
      "3.4 Overall Dimensions \n",
      "3.5 Floor \n",
      "3.6 Front Bodywork\n",
      "==================================================\n",
      "\n",
      "\n",
      "Regulations, refer to the classification of the car’s components in terms of their Design, \n",
      "Intellectual Property, Manufacture and Supply. \n",
      "2.4 Car mass \n",
      "Is the mass of the car with the driver, wearing his complete racing apparel, at all times during \n",
      "the Competition. \n",
      "2.5 Sprung mass \n",
      "All parts of the car that are entirely supported by the sprung suspension. \n",
      "2.6 Unsprung mass \n",
      "All parts of the car composing the sprung suspension external to the sprung mass and/or not \n",
      "entirely supported by the sprung suspension. For the purpose of this definition the boundary \n",
      "between sprung and unsprung mass will be at the suspension members’ inboard \n",
      "attachments. \n",
      "2.7 Power unit \n",
      "As defined in Article 5.1.2 \n",
      "2.8 Power train \n",
      "As defined in Article 5.1.1 \n",
      "2.9 Geometrical planes \n",
      "2.9.1 Reference plane: a nominally horizontal plane sitting at the bottom of the sprung part of the \n",
      "car, with the exception of the plank assembly defined in Article 3.5.9.\n",
      "==================================================\n",
      "\n",
      "\n",
      "2025 Formula 1 Technical Regulations 8  11 December 2024 \n",
      "© 2024 Fédération Internationale de l’Automobile  Issue 1 \n",
      " \n",
      "ARTICLE 2: DEFINITIONS \n",
      "2.1 Formula One Car \n",
      "An automobile (the car) designed solely for speed races on circuits or closed courses that is \n",
      "propelled by its own means, moving by constantly taking real support on the ground, of \n",
      "which the propulsion and steering are under the direct control of a driver aboard the vehicle. \n",
      "It runs on four non-aligned complete wheels, with wheel centres that are arranged \n",
      "symmetrically about the car centre plane, when in the straight-ahead position, to form the \n",
      "front and rear axles. \n",
      "2.2 Competition \n",
      "As defined in Article 2.2 of the Sporting Regulations \n",
      "2.3 Component classification categories \n",
      "The terms LTC, SSC, TRC and OSC defined in Articles 17.3 to 17.6 and used throughout the \n",
      "Regulations, refer to the classification of the car’s components in terms of their Design, \n",
      "Intellectual Property, Manufacture and Supply. \n",
      "2.4 Car mass\n",
      "==================================================\n",
      "\n",
      "\n",
      "2025 Formula 1 Technical Regulations 1  11 December 2024 \n",
      "© 2024 Fédération Internationale de l’Automobile  Issue 1 \n",
      " \n",
      "2025 FORMULA 1 TECHNICAL REGULATIONS \n",
      " \n",
      "PUBLISHED ON 11 DECEMBER 2024 \n",
      "Issue 1 \n",
      "Convention: \n",
      "Black text: Regulations unchanged from 2024 F1 Technical Regulations Issue 8, approved by the \n",
      "WMSC on 17/10/24. \n",
      "Pink text: Changes approved by WMSC on 11/12/24. \n",
      "Dark Red Text: Changes previously approved by WMSC and transferred from Appendix 6 of the \n",
      "2024 Technical Regulations Issue 8. \n",
      "Green Text: Comments / explanations / indication of further work: non-binding and non-regulatory \n",
      " \n",
      "CONTENTS: \n",
      "Page \n",
      "ARTICLE 1: GENERAL PRINCIPLES 6 \n",
      "1.1 Formula One World Championship \n",
      "1.2 Regulatory Framework \n",
      "1.3 Dangerous construction \n",
      "1.4 Compliance with the regulations \n",
      "1.5 New systems or technologies \n",
      "1.6 Duty of Competitor \n",
      "ARTICLE 2: DEFINITIONS 8 \n",
      "2.1 Formula One Car \n",
      "2.2 Competition \n",
      "2.3 Component classification categories \n",
      "2.4 Car mass \n",
      "2.5 Sprung mass \n",
      "2.6 Unsprung mass\n",
      "==================================================\n",
      "\n",
      "\n",
      "of its fixings were removed and it were subjected to a 100g acceleration in any direction. \n",
      "4.5 Adding during the race or sprint session \n",
      "With the exception of compressed gases, no substance may be added to the car during the \n",
      "race or sprint session. If it becomes necessary to replace any part of the car during the race or \n",
      "sprint session, the mass of the new part must not be more than that of the original part.\n",
      "==================================================\n",
      "\n",
      "\n",
      "2025 Formula 1 Technical Regulations 160  11 December 2024 \n",
      "© 2024 Fédération Internationale de l’Automobile  Issue 1\n",
      "==================================================\n",
      "\n",
      "\n",
      "2025 Formula 1 Technical Regulations 46  11 December 2024 \n",
      "© 2024 Fédération Internationale de l’Automobile  Issue 1 \n",
      " \n",
      "ARTICLE 4: MASS \n",
      "4.1 Minimum mass \n",
      "The mass of the car, without fuel, must not be less than 798kg 800kg plus the Heat Hazard \n",
      "Mass Increase (defined in Article 4.7), at all any times during the Competition. \n",
      "If, when required for checking, a car is not already fitted with dry-weather tyres, its mass will \n",
      "be determined using a set of dry-weather tyres selected by the FIA technical delegate. \n",
      "4.2 Mass distribution \n",
      "With the car resting on a horizontal plane the mass measured at the front and rear axles must \n",
      "not be less than the mass specified in Article 4.1 factored by 0.446 and 0.539 respectively at \n",
      "all times during the Sprint Qualifying practice and Qualifying sessions. Rounding will be to \n",
      "nearest 0.5kg. \n",
      "If, when required for checking, a car is not already fitted with dry-weather tyres, its mass will\n",
      "==================================================\n",
      "\n",
      "\n",
      "i. Bodywork \n",
      "ii. Components of the oil and coolant systems and charge air cooling (excluding any \n",
      "secondary heat exchangers) \n",
      "iii. Electrical systems (excluding electrical pumps and filters) \n",
      "iv. Pneumatic pressure vessels (excluding regulators operating at over 5 barG inlet \n",
      "pressure) \n",
      "v. Brake system, hydraulic system and pneumatic system hoses\n",
      "==================================================\n",
      "\n",
      "\n",
      "For the purposes of this test, the total mass of the trolley and test structure shall be between \n",
      "900kg and 925kg and the velocity of impact not less than 15 metres/second. \n",
      "The impact wall must be fitted with seven carbon composite crush tubes which develop a \n",
      "combined 500kN nominal load as follows:\n",
      "==================================================\n",
      "\n",
      "\n",
      "nearest 0.5kg. \n",
      "If, when required for checking, a car is not already fitted with dry-weather tyres, its mass will \n",
      "be determined using a set of dry-weather tyres selected by the FIA technical delegate. \n",
      "If, when required for checking, a Heat Hazard has been declared, the increase in mass will not \n",
      "be considered. \n",
      "4.3 Mass of tyres \n",
      "The mass limit specified in Article 4.1 and the factors specified in Article 4.2 will be adjusted \n",
      "up or down according to any differences (rounded to the nearest 1kg for Article 4.1) between \n",
      "the total set and individual axle set mass respectively of the dry-weather tyres used in the \n",
      "Championship taking place in the calendar year referred to in the title and the preceding \n",
      "year’s Championship. \n",
      "4.4 Ballast \n",
      "Ballast can be used provided it is secured in such a way that tools are required for its removal \n",
      "and that it remains immobile with respect to the sprung mass in its entirety. It must be\n",
      "==================================================\n",
      "\n"
     ]
    }
   ],
   "execution_count": 21
  },
  {
   "cell_type": "code",
   "id": "94122ba7",
   "metadata": {
    "ExecuteTime": {
     "end_time": "2025-09-07T12:06:03.080462Z",
     "start_time": "2025-09-07T12:06:01.953841Z"
    }
   },
   "source": [
    "prompt_template = \"\"\"You are an assistant for question-answering tasks. Use the following pieces of retrieved context to answer the question. If you don't know the answer, just say that you don't know. Use three sentences maximum and keep the answer concise.\n",
    "Question: {question} \n",
    "Context: {context} \n",
    "Answer:\"\"\"\n",
    "\n",
    "response = model.invoke(prompt_template.format(\n",
    "    context=doc_content,\n",
    "    question=\"What is car mass?\"))\n",
    "\n",
    "\n",
    "from IPython.display import Markdown\n",
    "Markdown(response.content)"
   ],
   "outputs": [
    {
     "data": {
      "text/plain": [
       "<IPython.core.display.Markdown object>"
      ],
      "text/markdown": "Car mass refers to the mass of the car with the driver, wearing complete racing apparel, at all times during the competition. It is defined in Article 2.4 of the regulations. The minimum car mass is specified in Article 4.1 as 798kg, plus the Heat Hazard Mass Increase, without fuel."
     },
     "execution_count": 22,
     "metadata": {},
     "output_type": "execute_result"
    }
   ],
   "execution_count": 22
  },
  {
   "cell_type": "code",
   "execution_count": null,
   "id": "9053cdb8",
   "metadata": {},
   "outputs": [],
   "source": []
  }
 ],
 "metadata": {
  "kernelspec": {
   "display_name": "mat496-monsoon2025",
   "language": "python",
   "name": "python3"
  },
  "language_info": {
   "codemirror_mode": {
    "name": "ipython",
    "version": 3
   },
   "file_extension": ".py",
   "mimetype": "text/x-python",
   "name": "python",
   "nbconvert_exporter": "python",
   "pygments_lexer": "ipython3",
   "version": "3.12.11"
  }
 },
 "nbformat": 4,
 "nbformat_minor": 5
}

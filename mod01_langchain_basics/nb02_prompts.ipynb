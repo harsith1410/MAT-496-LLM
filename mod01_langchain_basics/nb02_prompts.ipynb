{
 "cells": [
  {
   "cell_type": "code",
   "id": "682c4c87",
   "metadata": {
    "ExecuteTime": {
     "end_time": "2025-08-28T09:51:52.737287Z",
     "start_time": "2025-08-28T09:51:52.713981Z"
    }
   },
   "source": [
    "from dotenv import load_dotenv\n",
    "load_dotenv()"
   ],
   "outputs": [
    {
     "data": {
      "text/plain": [
       "True"
      ]
     },
     "execution_count": 1,
     "metadata": {},
     "output_type": "execute_result"
    }
   ],
   "execution_count": 1
  },
  {
   "cell_type": "markdown",
   "id": "2bb1d276",
   "metadata": {},
   "source": [
    "# Example 1"
   ]
  },
  {
   "cell_type": "code",
   "id": "a0e461e5",
   "metadata": {
    "ExecuteTime": {
     "end_time": "2025-08-28T09:53:33.226647Z",
     "start_time": "2025-08-28T09:53:32.333062Z"
    }
   },
   "source": [
    "from langchain.chat_models import init_chat_model\n",
    "\n",
    "model = init_chat_model(\"llama3-8b-8192\", model_provider=\"groq\")"
   ],
   "outputs": [],
   "execution_count": 3
  },
  {
   "metadata": {
    "ExecuteTime": {
     "end_time": "2025-08-28T09:55:45.309656Z",
     "start_time": "2025-08-28T09:55:45.304089Z"
    }
   },
   "cell_type": "code",
   "source": [
    "prompt_template = \"\"\"Summarize the given text in a concise manner:\n",
    "Text: {text}\n",
    "Summary Length: {length}\n",
    "\"\"\""
   ],
   "id": "470367a8940959e8",
   "outputs": [],
   "execution_count": 9
  },
  {
   "metadata": {
    "ExecuteTime": {
     "end_time": "2025-08-28T09:56:35.643078Z",
     "start_time": "2025-08-28T09:56:35.635533Z"
    }
   },
   "cell_type": "code",
   "source": [
    "prompt = prompt_template.format(text = \"\"\"Over the years, the rapid advancement of technology has revolutionized nearly every aspect of human life. From communication and entertainment to healthcare and education, digital innovations have touched every sector. The invention of the internet and the proliferation of smartphones, for example, have redefined how we interact with the world. Social media platforms have become the primary means of communication for many, enabling individuals to stay connected with friends and family, while also providing a space for businesses and influencers to market their products and services to a global audience.\n",
    "\n",
    "However, this technological shift hasn't come without its challenges. One of the most significant concerns is the rise of privacy issues. As more personal information is shared online, individuals are at risk of having their data misused or stolen. Cybersecurity breaches and data theft incidents have become more frequent, raising awareness about the importance of safeguarding personal information. Similarly, the rise of misinformation and fake news has become a widespread issue, particularly on social media platforms, where false narratives can spread rapidly and influence public opinion or even political outcomes.\n",
    "\n",
    "In addition, the increasing dependence on digital devices and online platforms has led to the growing phenomenon of digital addiction. Many individuals now spend excessive amounts of time online, whether it's browsing social media, playing video games, or watching streaming content. This has resulted in various mental health concerns, such as anxiety, depression, and social isolation, especially among younger generations who are constantly exposed to the pressures of online life. The question arises whether society can find a healthy balance between the benefits of technology and its potential negative effects.\"\"\", length=\"very short\")\n",
    "print(prompt)"
   ],
   "id": "22337cf234c2c51f",
   "outputs": [
    {
     "name": "stdout",
     "output_type": "stream",
     "text": [
      "Summarize the given text in a concise manner:\n",
      "Text: Over the years, the rapid advancement of technology has revolutionized nearly every aspect of human life. From communication and entertainment to healthcare and education, digital innovations have touched every sector. The invention of the internet and the proliferation of smartphones, for example, have redefined how we interact with the world. Social media platforms have become the primary means of communication for many, enabling individuals to stay connected with friends and family, while also providing a space for businesses and influencers to market their products and services to a global audience.\n",
      "\n",
      "However, this technological shift hasn't come without its challenges. One of the most significant concerns is the rise of privacy issues. As more personal information is shared online, individuals are at risk of having their data misused or stolen. Cybersecurity breaches and data theft incidents have become more frequent, raising awareness about the importance of safeguarding personal information. Similarly, the rise of misinformation and fake news has become a widespread issue, particularly on social media platforms, where false narratives can spread rapidly and influence public opinion or even political outcomes.\n",
      "\n",
      "In addition, the increasing dependence on digital devices and online platforms has led to the growing phenomenon of digital addiction. Many individuals now spend excessive amounts of time online, whether it's browsing social media, playing video games, or watching streaming content. This has resulted in various mental health concerns, such as anxiety, depression, and social isolation, especially among younger generations who are constantly exposed to the pressures of online life. The question arises whether society can find a healthy balance between the benefits of technology and its potential negative effects.\n",
      "Summary Length: very short\n",
      "\n"
     ]
    }
   ],
   "execution_count": 12
  },
  {
   "metadata": {
    "ExecuteTime": {
     "end_time": "2025-08-28T09:56:57.354608Z",
     "start_time": "2025-08-28T09:56:57.036941Z"
    }
   },
   "cell_type": "code",
   "source": [
    "response = model.invoke(prompt)\n",
    "print(response.content)"
   ],
   "id": "a1a90144847294f6",
   "outputs": [
    {
     "name": "stdout",
     "output_type": "stream",
     "text": [
      "Here is a concise summary of the text:\n",
      "\n",
      "The rapid advancement of technology has transformed various aspects of life, but it also poses challenges. Privacy concerns, misinformation, and digital addiction are growing issues, with individuals at risk of having their data misused, being exposed to fake news, and experiencing mental health concerns from excessive online use.\n"
     ]
    }
   ],
   "execution_count": 14
  },
  {
   "cell_type": "code",
   "execution_count": 3,
   "id": "2ca18e76",
   "metadata": {},
   "outputs": [],
   "source": [
    "# Prompt template\n",
    "\n",
    "prompt_template = \"\"\"Translate the given text in to the given language: \n",
    "Text: {text}\n",
    "Lang: {lang}\n",
    "\"\"\""
   ]
  },
  {
   "cell_type": "code",
   "execution_count": 5,
   "id": "8ca177aa",
   "metadata": {},
   "outputs": [
    {
     "name": "stdout",
     "output_type": "stream",
     "text": [
      "Translate the given text in to the given language: \n",
      "Text: Who are you?\n",
      "Lang: hindi\n",
      "\n"
     ]
    }
   ],
   "source": [
    "prompt = prompt_template.format(text = \"Who are you?\", lang=\"hindi\")\n",
    "print(prompt)"
   ]
  },
  {
   "cell_type": "code",
   "execution_count": 6,
   "id": "a6f93f75",
   "metadata": {},
   "outputs": [
    {
     "data": {
      "text/plain": [
       "AIMessage(content='The translation of the text \"Who are you?\" in Hindi is:\\n\\nकौन आप हैं? (Kaan aap hai?)', additional_kwargs={}, response_metadata={'token_usage': {'completion_tokens': 28, 'prompt_tokens': 31, 'total_tokens': 59, 'completion_time': 0.019048655, 'prompt_time': 0.004096113, 'queue_time': 0.237620418, 'total_time': 0.023144768}, 'model_name': 'llama3-8b-8192', 'system_fingerprint': 'fp_ec364e7642', 'service_tier': 'on_demand', 'finish_reason': 'stop', 'logprobs': None}, id='run--58941519-51a4-416f-9d3a-65e3ef938099-0', usage_metadata={'input_tokens': 31, 'output_tokens': 28, 'total_tokens': 59})"
      ]
     },
     "execution_count": 6,
     "metadata": {},
     "output_type": "execute_result"
    }
   ],
   "source": [
    "# A simple model call\n",
    "\n",
    "response =  model.invoke(prompt)\n",
    "response"
   ]
  },
  {
   "cell_type": "code",
   "execution_count": 7,
   "id": "044667ec",
   "metadata": {},
   "outputs": [
    {
     "name": "stdout",
     "output_type": "stream",
     "text": [
      "The translation of the text \"Who are you?\" in Hindi is:\n",
      "\n",
      "कौन आप हैं? (Kaan aap hai?)\n"
     ]
    }
   ],
   "source": [
    "print(response.content)"
   ]
  },
  {
   "cell_type": "markdown",
   "id": "ee4fd624",
   "metadata": {},
   "source": [
    "# Exercise: A RAG Prompt\n",
    "\n",
    "https://smith.langchain.com/hub/rlm/rag-prompt"
   ]
  },
  {
   "cell_type": "code",
   "execution_count": 8,
   "id": "959ec4c5",
   "metadata": {},
   "outputs": [],
   "source": [
    "prompt_template = \"\"\"You are an assistant for question-answering tasks. Use the following pieces of retrieved context to answer the question. If you don't know the answer, just say that you don't know. Use three sentences maximum and keep the answer concise.\n",
    "Question: {question} \n",
    "Context: {context} \n",
    "Answer:\"\"\""
   ]
  },
  {
   "cell_type": "code",
   "execution_count": 9,
   "id": "15482b5e",
   "metadata": {},
   "outputs": [
    {
     "name": "stdout",
     "output_type": "stream",
     "text": [
      "Ajit lives in India, in the city of Greater Noida.\n"
     ]
    }
   ],
   "source": [
    "prompt = prompt_template.format(\n",
    "    context = \"Ajit lives in Greater Noida\",\n",
    "    question=\"In which country does Ajit live in?\"\n",
    ")\n",
    "\n",
    "from langchain.chat_models import init_chat_model\n",
    "model = init_chat_model(\"llama3-8b-8192\", model_provider=\"groq\")\n",
    "\n",
    "response = model.invoke(prompt)\n",
    "print(response.content)\n",
    "\n"
   ]
  },
  {
   "cell_type": "code",
   "id": "aabbd227",
   "metadata": {
    "ExecuteTime": {
     "end_time": "2025-08-28T10:06:39.903979Z",
     "start_time": "2025-08-28T10:06:38.849013Z"
    }
   },
   "source": [
    "prompt_template = \"\"\"You are an assistant for question-answering tasks. Use the following pieces of retrieved context to answer the question. If you don't know the answer, just say that you don't know. Use three sentences maximum and keep the answer concise.\n",
    "Question: {question}\n",
    "Context: {context}\n",
    "Answer:\"\"\"\n",
    "\n",
    "prompt = prompt_template.format(\n",
    "    context = \"Lando Norris is in the 2nd place of the F1 Driver's Championship\",\n",
    "    question=\"In which place is Lando?\"\n",
    ")\n",
    "\n",
    "from langchain.chat_models import init_chat_model\n",
    "model = init_chat_model(\"llama3-8b-8192\", model_provider=\"groq\")\n",
    "\n",
    "response = model.invoke(prompt)\n",
    "print(response.content)"
   ],
   "outputs": [
    {
     "name": "stdout",
     "output_type": "stream",
     "text": [
      "According to the context, Lando Norris is in the 2nd place of the F1 Driver's Championship, but it doesn't specify his physical location.\n"
     ]
    }
   ],
   "execution_count": 17
  }
 ],
 "metadata": {
  "kernelspec": {
   "display_name": "mat496-monsoon2025",
   "language": "python",
   "name": "python3"
  },
  "language_info": {
   "codemirror_mode": {
    "name": "ipython",
    "version": 3
   },
   "file_extension": ".py",
   "mimetype": "text/x-python",
   "name": "python",
   "nbconvert_exporter": "python",
   "pygments_lexer": "ipython3",
   "version": "3.12.11"
  }
 },
 "nbformat": 4,
 "nbformat_minor": 5
}

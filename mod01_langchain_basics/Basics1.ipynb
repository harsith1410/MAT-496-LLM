{
 "cells": [
  {
   "cell_type": "markdown",
   "id": "527f8e31",
   "metadata": {},
   "source": [
    "Source: https://python.langchain.com/docs/tutorials/llm_chain/"
   ]
  },
  {
   "cell_type": "markdown",
   "id": "e3515867",
   "metadata": {},
   "source": [
    "- get your llm api key\n",
    "- Use Groq - its free\n",
    "- save it in .env file"
   ]
  },
  {
   "cell_type": "markdown",
   "id": "a01dc67e",
   "metadata": {},
   "source": [
    "Also do these steps in .env\n",
    "\n",
    "LANGSMITH_TRACING=\"true\"\n",
    "LANGSMITH_API_KEY=\"...\"\n",
    "LANGSMITH_PROJECT=\"default\" # or any other project name"
   ]
  },
  {
   "cell_type": "code",
   "id": "682c4c87",
   "metadata": {
    "ExecuteTime": {
     "end_time": "2025-08-28T09:14:15.298787Z",
     "start_time": "2025-08-28T09:14:15.276732Z"
    }
   },
   "source": [
    "from dotenv import load_dotenv\n",
    "load_dotenv()"
   ],
   "outputs": [
    {
     "data": {
      "text/plain": [
       "True"
      ]
     },
     "execution_count": 1,
     "metadata": {},
     "output_type": "execute_result"
    }
   ],
   "execution_count": 1
  },
  {
   "cell_type": "code",
   "execution_count": null,
   "id": "afe84af3",
   "metadata": {},
   "outputs": [],
   "source": [
    "# !pip install -qU \"langchain[groq]\""
   ]
  },
  {
   "cell_type": "code",
   "id": "a0e461e5",
   "metadata": {
    "ExecuteTime": {
     "end_time": "2025-08-28T09:20:23.620182Z",
     "start_time": "2025-08-28T09:20:23.185874Z"
    }
   },
   "source": [
    "from langchain.chat_models import init_chat_model\n",
    "\n",
    "model = init_chat_model(\"llama-3.3-70b-versatile\", model_provider=\"groq\")"
   ],
   "outputs": [],
   "execution_count": 9
  },
  {
   "cell_type": "code",
   "id": "a6f93f75",
   "metadata": {
    "ExecuteTime": {
     "end_time": "2025-08-28T09:20:26.115040Z",
     "start_time": "2025-08-28T09:20:25.685721Z"
    }
   },
   "source": [
    "# A simple model call\n",
    "\n",
    "model.invoke(\"Whats up?\")"
   ],
   "outputs": [
    {
     "data": {
      "text/plain": [
       "AIMessage(content=\"Not much! Just here and ready to chat. How about you? How's your day going so far? Want to talk about something in particular or just shoot the breeze? I'm all ears!\", additional_kwargs={}, response_metadata={'token_usage': {'completion_tokens': 41, 'prompt_tokens': 38, 'total_tokens': 79, 'completion_time': 0.089719338, 'prompt_time': 0.010784156, 'queue_time': 0.047785154, 'total_time': 0.100503494}, 'model_name': 'llama-3.3-70b-versatile', 'system_fingerprint': 'fp_2ddfbb0da0', 'service_tier': 'on_demand', 'finish_reason': 'stop', 'logprobs': None}, id='run--db86cf64-1fb0-477a-ba4d-28d038d62935-0', usage_metadata={'input_tokens': 38, 'output_tokens': 41, 'total_tokens': 79})"
      ]
     },
     "execution_count": 10,
     "metadata": {},
     "output_type": "execute_result"
    }
   ],
   "execution_count": 10
  },
  {
   "metadata": {},
   "cell_type": "code",
   "outputs": [],
   "execution_count": null,
   "source": "",
   "id": "ef093864ed059283"
  },
  {
   "cell_type": "markdown",
   "id": "42416cbd",
   "metadata": {},
   "source": [
    "[Exercise] Play along. Give bigger and bigger prompts"
   ]
  },
  {
   "cell_type": "code",
   "id": "da2738af",
   "metadata": {
    "ExecuteTime": {
     "end_time": "2025-08-26T09:42:04.600753Z",
     "start_time": "2025-08-26T09:42:04.389346Z"
    }
   },
   "source": [
    "model.invoke(\"Who are you?\")"
   ],
   "outputs": [
    {
     "data": {
      "text/plain": [
       "AIMessage(content=\"I am LLaMA, an AI assistant developed by Meta AI that can understand and respond to human input in a conversational manner. I'm not a human, but a computer program designed to simulate conversation, answer questions, and even generate text on a wide range of topics. I'm here to help with any questions or topics you'd like to discuss, so feel free to ask me anything!\", additional_kwargs={}, response_metadata={'token_usage': {'completion_tokens': 81, 'prompt_tokens': 14, 'total_tokens': 95, 'completion_time': 0.077036338, 'prompt_time': 0.003157928, 'queue_time': 0.050251012, 'total_time': 0.080194266}, 'model_name': 'llama3-8b-8192', 'system_fingerprint': 'fp_4b5fbf0ced', 'service_tier': 'on_demand', 'finish_reason': 'stop', 'logprobs': None}, id='run--7d89f378-a4ac-4a60-90a0-aeb195f08113-0', usage_metadata={'input_tokens': 14, 'output_tokens': 81, 'total_tokens': 95})"
      ]
     },
     "execution_count": 5,
     "metadata": {},
     "output_type": "execute_result"
    }
   ],
   "execution_count": 5
  },
  {
   "cell_type": "code",
   "id": "a7f4578d",
   "metadata": {
    "ExecuteTime": {
     "end_time": "2025-08-26T09:42:07.120559Z",
     "start_time": "2025-08-26T09:42:06.591418Z"
    }
   },
   "source": [
    "response = model.invoke(\"\"\" Write a python code which can multiply two matrix of arbitrary but compatible order. The code should throw exception if the matrix dimentsions are not compatible for multiplication             \n",
    "             \"\"\")\n",
    "\n",
    "response"
   ],
   "outputs": [
    {
     "data": {
      "text/plain": [
       "AIMessage(content='Here is a Python code that multiplies two matrices of arbitrary but compatible order:\\n```\\ndef matrix_multiply(A, B):\\n    \"\"\"\\n    Multiply two matrices A and B.\\n    Throws an exception if the matrices are not compatible for multiplication.\\n    \"\"\"\\n    # Get the dimensions of the matrices\\n    rows_A, cols_A = len(A), len(A[0])\\n    rows_B, cols_B = len(B), len(B[0])\\n\\n    # Check if the matrices are compatible for multiplication\\n    if cols_A != rows_B:\\n        raise ValueError(\"Incompatible matrices for multiplication\")\\n\\n    # Create the result matrix with the correct dimensions\\n    C = [[0 for _ in range(cols_B)] for _ in range(rows_A)]\\n\\n    # Perform the matrix multiplication\\n    for i in range(rows_A):\\n        for j in range(cols_B):\\n            for k in range(cols_A):  # or \\'rows_B\\'\\n                C[i][j] += A[i][k] * B[k][j]\\n\\n    return C\\n```\\nHere\\'s an example usage:\\n```\\nA = [[1, 2, 3], [4, 5, 6]]\\nB = [[7, 8], [9, 10], [11, 12]]\\n\\nC = matrix_multiply(A, B)\\nprint(C)  # Output: [[58, 64], [139, 154]]\\n```\\nIf the matrices are not compatible for multiplication, the code will throw a `ValueError` exception:\\n```\\nA = [[1, 2, 3], [4, 5, 6]]\\nB = [[7, 8], [9, 10]]\\n\\ntry:\\n    C = matrix_multiply(A, B)\\nexcept ValueError as e:\\n    print(e)  # Output: Incompatible matrices for multiplication\\n```\\nNote that this implementation assumes that the matrices are represented as lists of lists, where each inner list represents a row of the matrix. The code also assumes that the matrices are dense, meaning that most elements are non-zero. If you need to support sparse matrices, you\\'ll need to modify the implementation accordingly.', additional_kwargs={}, response_metadata={'token_usage': {'completion_tokens': 437, 'prompt_tokens': 43, 'total_tokens': 480, 'completion_time': 0.41723902, 'prompt_time': 0.005751985, 'queue_time': 0.044041415, 'total_time': 0.422991005}, 'model_name': 'llama3-8b-8192', 'system_fingerprint': 'fp_4b5fbf0ced', 'service_tier': 'on_demand', 'finish_reason': 'stop', 'logprobs': None}, id='run--e4f0d54f-c06f-4a0b-8668-86c3fdd25b7d-0', usage_metadata={'input_tokens': 43, 'output_tokens': 437, 'total_tokens': 480})"
      ]
     },
     "execution_count": 6,
     "metadata": {},
     "output_type": "execute_result"
    }
   ],
   "execution_count": 6
  },
  {
   "cell_type": "code",
   "id": "17c8c30d",
   "metadata": {
    "ExecuteTime": {
     "end_time": "2025-08-26T09:42:09.745231Z",
     "start_time": "2025-08-26T09:42:09.739798Z"
    }
   },
   "source": [
    "print(response.content)"
   ],
   "outputs": [
    {
     "name": "stdout",
     "output_type": "stream",
     "text": [
      "Here is a Python code that multiplies two matrices of arbitrary but compatible order:\n",
      "```\n",
      "def matrix_multiply(A, B):\n",
      "    \"\"\"\n",
      "    Multiply two matrices A and B.\n",
      "    Throws an exception if the matrices are not compatible for multiplication.\n",
      "    \"\"\"\n",
      "    # Get the dimensions of the matrices\n",
      "    rows_A, cols_A = len(A), len(A[0])\n",
      "    rows_B, cols_B = len(B), len(B[0])\n",
      "\n",
      "    # Check if the matrices are compatible for multiplication\n",
      "    if cols_A != rows_B:\n",
      "        raise ValueError(\"Incompatible matrices for multiplication\")\n",
      "\n",
      "    # Create the result matrix with the correct dimensions\n",
      "    C = [[0 for _ in range(cols_B)] for _ in range(rows_A)]\n",
      "\n",
      "    # Perform the matrix multiplication\n",
      "    for i in range(rows_A):\n",
      "        for j in range(cols_B):\n",
      "            for k in range(cols_A):  # or 'rows_B'\n",
      "                C[i][j] += A[i][k] * B[k][j]\n",
      "\n",
      "    return C\n",
      "```\n",
      "Here's an example usage:\n",
      "```\n",
      "A = [[1, 2, 3], [4, 5, 6]]\n",
      "B = [[7, 8], [9, 10], [11, 12]]\n",
      "\n",
      "C = matrix_multiply(A, B)\n",
      "print(C)  # Output: [[58, 64], [139, 154]]\n",
      "```\n",
      "If the matrices are not compatible for multiplication, the code will throw a `ValueError` exception:\n",
      "```\n",
      "A = [[1, 2, 3], [4, 5, 6]]\n",
      "B = [[7, 8], [9, 10]]\n",
      "\n",
      "try:\n",
      "    C = matrix_multiply(A, B)\n",
      "except ValueError as e:\n",
      "    print(e)  # Output: Incompatible matrices for multiplication\n",
      "```\n",
      "Note that this implementation assumes that the matrices are represented as lists of lists, where each inner list represents a row of the matrix. The code also assumes that the matrices are dense, meaning that most elements are non-zero. If you need to support sparse matrices, you'll need to modify the implementation accordingly.\n"
     ]
    }
   ],
   "execution_count": 7
  },
  {
   "cell_type": "code",
   "id": "8b215da3",
   "metadata": {
    "ExecuteTime": {
     "end_time": "2025-08-26T10:11:35.373486Z",
     "start_time": "2025-08-26T10:11:35.157503Z"
    }
   },
   "source": [
    "# invoking to build a converstation style call\n",
    "\n",
    "from langchain_core.messages import HumanMessage, SystemMessage\n",
    "\n",
    "messages = [\n",
    "    SystemMessage(\"Translate the following from English into French\"), # try punjabi, or any other Indian language\n",
    "    HumanMessage(\"My house is big\"),\n",
    "]\n",
    "\n",
    "model.invoke(messages)"
   ],
   "outputs": [
    {
     "data": {
      "text/plain": [
       "AIMessage(content='Ma maison est grande.', additional_kwargs={}, response_metadata={'token_usage': {'completion_tokens': 6, 'prompt_tokens': 26, 'total_tokens': 32, 'completion_time': 0.004089941, 'prompt_time': 0.004762109, 'queue_time': 0.104834271, 'total_time': 0.00885205}, 'model_name': 'llama3-8b-8192', 'system_fingerprint': 'fp_4b5fbf0ced', 'service_tier': 'on_demand', 'finish_reason': 'stop', 'logprobs': None}, id='run--f269ac63-840d-449d-88c7-869f10d0905f-0', usage_metadata={'input_tokens': 26, 'output_tokens': 6, 'total_tokens': 32})"
      ]
     },
     "execution_count": 12,
     "metadata": {},
     "output_type": "execute_result"
    }
   ],
   "execution_count": 12
  },
  {
   "cell_type": "code",
   "id": "9efe5fb2",
   "metadata": {
    "ExecuteTime": {
     "end_time": "2025-08-26T09:42:14.568291Z",
     "start_time": "2025-08-26T09:42:14.179036Z"
    }
   },
   "source": [
    "messages = [\n",
    "    SystemMessage(\"Generate python code for given tasks\"),\n",
    "    HumanMessage(\"Find max of given n numbers\"),\n",
    "]\n",
    "\n",
    "response = model.invoke(messages)\n",
    "\n",
    "response"
   ],
   "outputs": [
    {
     "data": {
      "text/plain": [
       "AIMessage(content='Here is an example of Python code that finds the maximum of a given set of `n` numbers:\\n```\\ndef find_max(n, numbers):\\n    max_num = numbers[0]\\n    for num in numbers[1:]:\\n        if num > max_num:\\n            max_num = num\\n    return max_num\\n\\n# Example usage:\\nn = 5\\nnumbers = [3, 1, 4, 2, 5]\\nmax_num = find_max(n, numbers)\\nprint(max_num)  # Output: 5\\n```\\nThis code uses a simple iterative approach to find the maximum number. It initializes the `max_num` variable with the first element of the `numbers` list, and then iterates through the rest of the list, updating `max_num` if it finds a larger number.\\n\\nAlternatively, you can use the built-in `max()` function in Python, like this:\\n```\\ndef find_max(n, numbers):\\n    return max(numbers)\\n\\n# Example usage:\\nn = 5\\nnumbers = [3, 1, 4, 2, 5]\\nmax_num = find_max(n, numbers)\\nprint(max_num)  # Output: 5\\n```\\nThis code is much simpler and more efficient, as it relies on the built-in `max()` function to find the maximum number.', additional_kwargs={}, response_metadata={'token_usage': {'completion_tokens': 274, 'prompt_tokens': 27, 'total_tokens': 301, 'completion_time': 0.260505178, 'prompt_time': 0.011027827, 'queue_time': 0.054315323, 'total_time': 0.271533005}, 'model_name': 'llama3-8b-8192', 'system_fingerprint': 'fp_4b5fbf0ced', 'service_tier': 'on_demand', 'finish_reason': 'stop', 'logprobs': None}, id='run--7a8271ad-bf99-40be-91bc-2cdc44131d60-0', usage_metadata={'input_tokens': 27, 'output_tokens': 274, 'total_tokens': 301})"
      ]
     },
     "execution_count": 9,
     "metadata": {},
     "output_type": "execute_result"
    }
   ],
   "execution_count": 9
  },
  {
   "cell_type": "code",
   "execution_count": null,
   "id": "d36098aa",
   "metadata": {},
   "outputs": [],
   "source": [
    "print(response.content)"
   ]
  },
  {
   "cell_type": "code",
   "id": "39caa649",
   "metadata": {
    "ExecuteTime": {
     "end_time": "2025-08-26T10:21:35.270930Z",
     "start_time": "2025-08-26T10:21:32.425390Z"
    }
   },
   "source": [
    "# streaming example\n",
    "import time\n",
    "\n",
    "for token in model.stream(\"hi\"):\n",
    "    time.sleep(0.1)\n",
    "    print(token.content, end=\"|\")"
   ],
   "outputs": [
    {
     "name": "stdout",
     "output_type": "stream",
     "text": [
      "|Hi|!| It|'s| nice| to| meet| you|.| Is| there| something| I| can| help| you| with| or| would| you| like| to| chat|?||"
     ]
    }
   ],
   "execution_count": 13
  },
  {
   "cell_type": "code",
   "id": "6837d022",
   "metadata": {
    "ExecuteTime": {
     "end_time": "2025-08-28T09:15:09.171198Z",
     "start_time": "2025-08-28T09:15:09.167951Z"
    }
   },
   "source": [
    "# Class discussion point: What is an LLM as a program"
   ],
   "outputs": [],
   "execution_count": 5
  },
  {
   "metadata": {
    "ExecuteTime": {
     "end_time": "2025-08-28T09:21:16.592679Z",
     "start_time": "2025-08-28T09:21:15.895772Z"
    }
   },
   "cell_type": "code",
   "source": [
    "response=model.invoke(\"Generate a question that is used to check someone's IQ and give me with the answer\")\n",
    "\n",
    "print(response.content)"
   ],
   "id": "6e851aaf89fed331",
   "outputs": [
    {
     "name": "stdout",
     "output_type": "stream",
     "text": [
      "Here's a classic IQ test question:\n",
      "\n",
      "**Question:** \n",
      "A bat and a ball together cost $1.10. The bat costs $1.00 more than the ball. How much does the ball cost?\n",
      "\n",
      "**Think you know the answer?**\n",
      "\n",
      "**Answer:** \n",
      "The ball costs $0.05.\n",
      "\n",
      "**Explanation:** \n",
      "Let's say the ball costs x cents. Since the bat costs $1.00 more than the ball, the bat costs x + $1.00. The total cost of the bat and the ball is $1.10, so we can set up the equation:\n",
      "\n",
      "x + (x + $1.00) = $1.10\n",
      "\n",
      "Combine like terms:\n",
      "\n",
      "2x + $1.00 = $1.10\n",
      "\n",
      "Subtract $1.00 from both sides:\n",
      "\n",
      "2x = $0.10\n",
      "\n",
      "Divide both sides by 2:\n",
      "\n",
      "x = $0.05\n",
      "\n",
      "So, the ball costs $0.05, or 5 cents.\n",
      "\n",
      "**Note:** \n",
      "This question is designed to test your ability to think logically and solve a simple algebraic equation. It's not necessarily a measure of your overall intelligence, but rather a way to assess your problem-solving skills.\n"
     ]
    }
   ],
   "execution_count": 12
  },
  {
   "metadata": {
    "ExecuteTime": {
     "end_time": "2025-08-28T09:42:22.213356Z",
     "start_time": "2025-08-28T09:42:21.151908Z"
    }
   },
   "cell_type": "code",
   "source": [
    "response=model.invoke(\"\"\"\n",
    "\n",
    "Let's break this down step by step.\n",
    "\n",
    "Let:\n",
    "\n",
    "𝑥\n",
    "x = the cost of the ball (in dollars)\n",
    "\n",
    "Then the bat costs\n",
    "𝑥\n",
    "+\n",
    "1.00\n",
    "x+1.00\n",
    "\n",
    "According to the problem:\n",
    "\n",
    "bat\n",
    "+\n",
    "ball\n",
    "=\n",
    "1.10\n",
    "bat+ball=1.10\n",
    "(\n",
    "𝑥\n",
    "+\n",
    "1.00\n",
    ")\n",
    "+\n",
    "𝑥\n",
    "=\n",
    "1.10\n",
    "(x+1.00)+x=1.10\n",
    "2\n",
    "𝑥\n",
    "+\n",
    "1.00\n",
    "=\n",
    "1.10\n",
    "2x+1.00=1.10\n",
    "2\n",
    "𝑥\n",
    "=\n",
    "1.10\n",
    "−\n",
    "1.00\n",
    "=\n",
    "0.10\n",
    "2x=1.10−1.00=0.10\n",
    "𝑥\n",
    "=\n",
    "0.05\n",
    "x=0.05\n",
    "✅ So the ball costs $0.05, or 5 cents. , What will be the IQ of this give me a value\n",
    "\"\"\"\n",
    "                      )\n",
    "\n",
    "response.content"
   ],
   "id": "fb875645774f9ab5",
   "outputs": [
    {
     "data": {
      "text/plain": [
       "'A clever math problem! 🤔\\n\\nTo solve for the IQ, I\\'ll assume you\\'re referring to the \"IQ\" of the problem, not a human intelligence quotient. 😊\\n\\nGiven the problem\\'s clever use of algebra and simple arithmetic, I\\'d rate the \"IQ\" of this problem as follows:\\n\\n**Mathematical Complexity: 6/10**\\nThe problem requires basic algebraic manipulations, such as combining like terms and solving for a variable. While it\\'s not a trivial problem, it\\'s still accessible to those with a basic understanding of algebra.\\n\\n**Creativity and Originality: 4/10**\\nThe problem is a classic example of a \"brain teaser\" or \"lateral thinking\" puzzle, but it\\'s not particularly original or innovative. The concept of using a bat and a ball to create a mathematical puzzle is well-known and has been used in various forms before.\\n\\n**Overall \"IQ\": 50**\\nUsing a completely arbitrary and subjective scale, I\\'d give this problem an \"IQ\" of 50. It\\'s a fun and engaging problem that requires some basic mathematical skills, but it\\'s not excessively difficult or innovative.\\n\\nSo, there you have it! The \"IQ\" of this problem is 50. 🤓'"
      ]
     },
     "execution_count": 17,
     "metadata": {},
     "output_type": "execute_result"
    }
   ],
   "execution_count": 17
  },
  {
   "metadata": {},
   "cell_type": "code",
   "outputs": [],
   "execution_count": null,
   "source": "",
   "id": "48feebcc18be8001"
  }
 ],
 "metadata": {
  "kernelspec": {
   "display_name": "mat496-monsoon2025",
   "language": "python",
   "name": "python3"
  },
  "language_info": {
   "codemirror_mode": {
    "name": "ipython",
    "version": 3
   },
   "file_extension": ".py",
   "mimetype": "text/x-python",
   "name": "python",
   "nbconvert_exporter": "python",
   "pygments_lexer": "ipython3",
   "version": "3.12.11"
  }
 },
 "nbformat": 4,
 "nbformat_minor": 5
}
